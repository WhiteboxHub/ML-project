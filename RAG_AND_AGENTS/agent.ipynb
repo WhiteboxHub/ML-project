{
 "cells": [
  {
   "cell_type": "code",
   "execution_count": null,
   "metadata": {},
   "outputs": [],
   "source": []
  },
  {
   "cell_type": "code",
   "execution_count": 7,
   "metadata": {},
   "outputs": [],
   "source": [
    "\n",
    "Orcestration_agent_prompt = '''\n",
    "            \"system\",\n",
    "            \"You are a helpful assistant tasked with answering user questions. \"\n",
    "            \"You have access to two tools: RAG , web_search_agent and get_current_weather \"\n",
    "            \"For any user questions about LLM agents, use the RAG tool to get information for a vectorstore. \"\n",
    "            \"For any questions, such as questions about current events, use the web_search tool to get information from the web. \",\n",
    "            \"For any question asked about the weather you use get_current_weather tool to get the answer\"\n",
    "        \n",
    "    '''\n",
    "\n",
    "web_search_agent_prompt = '''\n",
    "You are an assistant for summarization task for a simple docs\n",
    "you have to summarize the given context into a paragraph of 50 - 250 words.\n",
    "you don't have to focus on the grammar just the prority is to capture the context in the summary\n",
    "<context>\n",
    "{context}\n",
    "</context>\n",
    "'''"
   ]
  },
  {
   "cell_type": "code",
   "execution_count": 8,
   "metadata": {},
   "outputs": [],
   "source": [
    "from rag import RAG"
   ]
  },
  {
   "cell_type": "code",
   "execution_count": 9,
   "metadata": {},
   "outputs": [
    {
     "data": {
      "text/plain": [
       "'Machine learning algorithms process numbers, so text is converted to numbers by creating a vocabulary and assigning integer indices. The algorithms essentially minimize an objective function to achieve the desired outcome. They also use reward shaping to give incremental rewards for progress in learning.'"
      ]
     },
     "execution_count": 9,
     "metadata": {},
     "output_type": "execute_result"
    }
   ],
   "source": [
    "RAG('How does machine learning algoritm works?')"
   ]
  },
  {
   "cell_type": "code",
   "execution_count": 10,
   "metadata": {},
   "outputs": [],
   "source": [
    "import shutil\n",
    "shutil.rmtree('__pycache__', ignore_errors=True)\n",
    "\n",
    "from prompt import web_search_agent_prompt"
   ]
  },
  {
   "cell_type": "code",
   "execution_count": 11,
   "metadata": {},
   "outputs": [
    {
     "name": "stderr",
     "output_type": "stream",
     "text": [
      "USER_AGENT environment variable not set, consider setting it to identify your requests.\n"
     ]
    }
   ],
   "source": [
    "from langchain_community.document_loaders import WebBaseLoader\n",
    "from langchain_core.tools import tool\n",
    "from typing import Annotated, List, Tuple, Union\n",
    "\n",
    "@tool\n",
    "def get_current_weather(city : Annotated[str, \"city to get the weather for the city\"]) -> str:\n",
    "    \"\"\"\n",
    "    Get the current weather for a city.\n",
    "\n",
    "    Parameters:\n",
    "    city (str): The name of the city.\n",
    "\n",
    "    Returns:\n",
    "    str: The current temperature in the specified city.\n",
    "    \"\"\"\n",
    "    return f\"The current temperature in {city} is Sunny\"\n",
    "\n",
    "\n",
    "url = \"https://lilianweng.github.io/posts/2023-06-23-agent/\"\n",
    "from groq import Groq\n",
    "\n",
    "@tool\n",
    "def web_search_agent(url : Annotated[str, \"url to retrive informatinfor a webpage\"]):\n",
    "    # Load documents from the URLs\n",
    "    \"\"\"\n",
    "    get the information from the web page from given url\n",
    "\n",
    "    Parameters:\n",
    "    url (str): The name of the city.\n",
    "\n",
    "    Returns:\n",
    "    str: the text retrived form the url\n",
    "    \"\"\"\n",
    "    client = Groq(\n",
    "    api_key=\"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\"\n",
    "    )\n",
    "    docs = WebBaseLoader(url).load()\n",
    "    if docs:\n",
    "        docs_list = [item for item in docs ]\n",
    "\n",
    "        if len(docs_list) > 30:\n",
    "            docs_list = docs_list[1:20]\n",
    "    \n",
    "    chat_prompt = web_search_agent_prompt.format(context=docs_list)\n",
    "\n",
    "    chat_completion = client.chat.completions.create(\n",
    "        messages=[\n",
    "            {\n",
    "                \"role\" : \"system\",\n",
    "                \"content\": chat_prompt\n",
    "            }\n",
    "        ],\n",
    "        model=\"llama-3.3-70b-versatile\"\n",
    "    )\n",
    "    return chat_completion.choices[0].message.content\n",
    "\n",
    "\n"
   ]
  },
  {
   "cell_type": "code",
   "execution_count": 12,
   "metadata": {},
   "outputs": [],
   "source": [
    "from langchain_core.tools import Tool\n",
    "weather_tool = Tool(\n",
    "    name=\"Weather\",\n",
    "    func=get_current_weather,\n",
    "    description=\"Provides current weather information for a location.\"\n",
    ")\n",
    "rag_tool = Tool(\n",
    "    name=\"RAG\",\n",
    "    func=RAG,\n",
    "    description=\"Retrieves documents based on a query.\"\n",
    ")\n",
    "\n",
    "web_search_tool = Tool(\n",
    "    name=\"web_serach\",\n",
    "    func=web_search_agent,\n",
    "    description=\"Retrieves documents from the give url.\"\n",
    ")"
   ]
  },
  {
   "cell_type": "code",
   "execution_count": 13,
   "metadata": {},
   "outputs": [],
   "source": [
    "from langchain_core.prompts import ChatPromptTemplate\n",
    "from langchain_groq import ChatGroq\n",
    "from langchain.agents import create_tool_calling_agent,AgentExecutor\n",
    "prompt = ChatPromptTemplate.from_messages([(\"system\",Orcestration_agent_prompt),\n",
    "                                           (\"human\",\"{input}\"),\n",
    "                                           (\"placeholder\",\"{agent_scratchpad}\")])\n",
    "\n",
    "tools = [rag_tool,weather_tool,web_search_tool]\n",
    "\n",
    "llm = ChatGroq(temperature=0, model_name=\"mixtral-8x7b-32768\",api_key=\"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\")\n",
    "\n",
    "search_agent = create_tool_calling_agent(llm,tools,prompt)"
   ]
  },
  {
   "cell_type": "code",
   "execution_count": 14,
   "metadata": {},
   "outputs": [
    {
     "data": {
      "text/plain": [
       "{'input': 'What is an intelligent agent in artificial intelligence?',\n",
       " 'output': 'In artificial intelligence, an intelligent agent is a software agent that perceives its environment and takes actions autonomously to achieve goals. It can improve its performance over time and is designed to function without human intervention. An example of an intelligent agent is a chatbot that learns from user interactions to provide more accurate and relevant responses.'}"
      ]
     },
     "execution_count": 14,
     "metadata": {},
     "output_type": "execute_result"
    }
   ],
   "source": [
    "search_agent_exe = AgentExecutor(agent=search_agent,tools=tools)\n",
    "search_agent_exe.invoke({\"input\":\"What is an intelligent agent in artificial intelligence?\"})"
   ]
  },
  {
   "cell_type": "code",
   "execution_count": 15,
   "metadata": {},
   "outputs": [
    {
     "data": {
      "text/plain": [
       "{'input': \"get the info from the following url 'https://medium.com/the-ai-forum/langchain-tooling-using-groq-d60ce5117710'\",\n",
       " 'output': 'LLMs, or Large Language Models, can be transformed into autonomous agents using the ReAct pattern, which allows the model to \"think out loud\" and interact with dynamic environments. LLMs can also be part of larger agent models with capabilities such as natural language interfaces and goal-oriented actions. This information was provided by the RAG tool.'}"
      ]
     },
     "execution_count": 15,
     "metadata": {},
     "output_type": "execute_result"
    }
   ],
   "source": [
    "search_agent_exe.invoke({\"input\":\"get the info from the following url 'https://medium.com/the-ai-forum/langchain-tooling-using-groq-d60ce5117710'\"})\n"
   ]
  },
  {
   "cell_type": "code",
   "execution_count": 16,
   "metadata": {},
   "outputs": [
    {
     "data": {
      "text/plain": [
       "{'input': 'what is the weather in dublin',\n",
       " 'output': 'The current temperature in Dublin is Sunny.'}"
      ]
     },
     "execution_count": 16,
     "metadata": {},
     "output_type": "execute_result"
    }
   ],
   "source": [
    "search_agent_exe.invoke({\"input\":\"what is the weather in dublin\"})"
   ]
  },
  {
   "cell_type": "code",
   "execution_count": 17,
   "metadata": {},
   "outputs": [
    {
     "data": {
      "text/plain": [
       "{'input': 'what is the weather in new york',\n",
       " 'output': 'The current temperature in New York is Sunny.'}"
      ]
     },
     "execution_count": 17,
     "metadata": {},
     "output_type": "execute_result"
    }
   ],
   "source": [
    "search_agent_exe.invoke({\"input\":\"what is the weather in new york\"})\n"
   ]
  },
  {
   "cell_type": "code",
   "execution_count": null,
   "metadata": {},
   "outputs": [],
   "source": []
  }
 ],
 "metadata": {
  "kernelspec": {
   "display_name": "myenv",
   "language": "python",
   "name": "python3"
  },
  "language_info": {
   "codemirror_mode": {
    "name": "ipython",
    "version": 3
   },
   "file_extension": ".py",
   "mimetype": "text/x-python",
   "name": "python",
   "nbconvert_exporter": "python",
   "pygments_lexer": "ipython3",
   "version": "3.10.5"
  }
 },
 "nbformat": 4,
 "nbformat_minor": 2
}
