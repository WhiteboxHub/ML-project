{
 "cells": [
  {
   "cell_type": "code",
   "execution_count": 26,
   "metadata": {},
   "outputs": [
    {
     "name": "stdout",
     "output_type": "stream",
     "text": [
      "Defaulting to user installation because normal site-packages is not writeable\n",
      "Requirement already satisfied: langchain_text_splitters in c:\\users\\malat\\appdata\\local\\packages\\pythonsoftwarefoundation.python.3.12_qbz5n2kfra8p0\\localcache\\local-packages\\python312\\site-packages (0.3.5)\n",
      "Requirement already satisfied: sentence_transformers in c:\\users\\malat\\appdata\\local\\packages\\pythonsoftwarefoundation.python.3.12_qbz5n2kfra8p0\\localcache\\local-packages\\python312\\site-packages (3.3.1)\n",
      "Requirement already satisfied: langchain-core<0.4.0,>=0.3.29 in c:\\users\\malat\\appdata\\local\\packages\\pythonsoftwarefoundation.python.3.12_qbz5n2kfra8p0\\localcache\\local-packages\\python312\\site-packages (from langchain_text_splitters) (0.3.30)\n",
      "Requirement already satisfied: transformers<5.0.0,>=4.41.0 in c:\\users\\malat\\appdata\\local\\packages\\pythonsoftwarefoundation.python.3.12_qbz5n2kfra8p0\\localcache\\local-packages\\python312\\site-packages (from sentence_transformers) (4.48.0)\n",
      "Requirement already satisfied: tqdm in c:\\users\\malat\\appdata\\local\\packages\\pythonsoftwarefoundation.python.3.12_qbz5n2kfra8p0\\localcache\\local-packages\\python312\\site-packages (from sentence_transformers) (4.67.1)\n",
      "Requirement already satisfied: torch>=1.11.0 in c:\\users\\malat\\appdata\\local\\packages\\pythonsoftwarefoundation.python.3.12_qbz5n2kfra8p0\\localcache\\local-packages\\python312\\site-packages (from sentence_transformers) (2.5.1)\n",
      "Requirement already satisfied: scikit-learn in c:\\users\\malat\\appdata\\local\\packages\\pythonsoftwarefoundation.python.3.12_qbz5n2kfra8p0\\localcache\\local-packages\\python312\\site-packages (from sentence_transformers) (1.6.1)\n",
      "Requirement already satisfied: scipy in c:\\users\\malat\\appdata\\local\\packages\\pythonsoftwarefoundation.python.3.12_qbz5n2kfra8p0\\localcache\\local-packages\\python312\\site-packages (from sentence_transformers) (1.15.1)\n",
      "Requirement already satisfied: huggingface-hub>=0.20.0 in c:\\users\\malat\\appdata\\local\\packages\\pythonsoftwarefoundation.python.3.12_qbz5n2kfra8p0\\localcache\\local-packages\\python312\\site-packages (from sentence_transformers) (0.27.1)\n",
      "Requirement already satisfied: Pillow in c:\\users\\malat\\appdata\\local\\packages\\pythonsoftwarefoundation.python.3.12_qbz5n2kfra8p0\\localcache\\local-packages\\python312\\site-packages (from sentence_transformers) (11.1.0)\n",
      "Requirement already satisfied: filelock in c:\\users\\malat\\appdata\\local\\packages\\pythonsoftwarefoundation.python.3.12_qbz5n2kfra8p0\\localcache\\local-packages\\python312\\site-packages (from huggingface-hub>=0.20.0->sentence_transformers) (3.16.1)\n",
      "Requirement already satisfied: fsspec>=2023.5.0 in c:\\users\\malat\\appdata\\local\\packages\\pythonsoftwarefoundation.python.3.12_qbz5n2kfra8p0\\localcache\\local-packages\\python312\\site-packages (from huggingface-hub>=0.20.0->sentence_transformers) (2024.12.0)\n",
      "Requirement already satisfied: packaging>=20.9 in c:\\users\\malat\\appdata\\local\\packages\\pythonsoftwarefoundation.python.3.12_qbz5n2kfra8p0\\localcache\\local-packages\\python312\\site-packages (from huggingface-hub>=0.20.0->sentence_transformers) (24.2)\n",
      "Requirement already satisfied: pyyaml>=5.1 in c:\\users\\malat\\appdata\\local\\packages\\pythonsoftwarefoundation.python.3.12_qbz5n2kfra8p0\\localcache\\local-packages\\python312\\site-packages (from huggingface-hub>=0.20.0->sentence_transformers) (6.0.2)\n",
      "Requirement already satisfied: requests in c:\\users\\malat\\appdata\\local\\packages\\pythonsoftwarefoundation.python.3.12_qbz5n2kfra8p0\\localcache\\local-packages\\python312\\site-packages (from huggingface-hub>=0.20.0->sentence_transformers) (2.32.3)\n",
      "Requirement already satisfied: typing-extensions>=3.7.4.3 in c:\\users\\malat\\appdata\\local\\packages\\pythonsoftwarefoundation.python.3.12_qbz5n2kfra8p0\\localcache\\local-packages\\python312\\site-packages (from huggingface-hub>=0.20.0->sentence_transformers) (4.12.2)\n",
      "Requirement already satisfied: jsonpatch<2.0,>=1.33 in c:\\users\\malat\\appdata\\local\\packages\\pythonsoftwarefoundation.python.3.12_qbz5n2kfra8p0\\localcache\\local-packages\\python312\\site-packages (from langchain-core<0.4.0,>=0.3.29->langchain_text_splitters) (1.33)\n",
      "Requirement already satisfied: langsmith<0.3,>=0.1.125 in c:\\users\\malat\\appdata\\local\\packages\\pythonsoftwarefoundation.python.3.12_qbz5n2kfra8p0\\localcache\\local-packages\\python312\\site-packages (from langchain-core<0.4.0,>=0.3.29->langchain_text_splitters) (0.2.11)\n",
      "Requirement already satisfied: pydantic<3.0.0,>=2.7.4 in c:\\users\\malat\\appdata\\local\\packages\\pythonsoftwarefoundation.python.3.12_qbz5n2kfra8p0\\localcache\\local-packages\\python312\\site-packages (from langchain-core<0.4.0,>=0.3.29->langchain_text_splitters) (2.10.5)\n",
      "Requirement already satisfied: tenacity!=8.4.0,<10.0.0,>=8.1.0 in c:\\users\\malat\\appdata\\local\\packages\\pythonsoftwarefoundation.python.3.12_qbz5n2kfra8p0\\localcache\\local-packages\\python312\\site-packages (from langchain-core<0.4.0,>=0.3.29->langchain_text_splitters) (9.0.0)\n",
      "Requirement already satisfied: networkx in c:\\users\\malat\\appdata\\local\\packages\\pythonsoftwarefoundation.python.3.12_qbz5n2kfra8p0\\localcache\\local-packages\\python312\\site-packages (from torch>=1.11.0->sentence_transformers) (3.4.2)\n",
      "Requirement already satisfied: jinja2 in c:\\users\\malat\\appdata\\local\\packages\\pythonsoftwarefoundation.python.3.12_qbz5n2kfra8p0\\localcache\\local-packages\\python312\\site-packages (from torch>=1.11.0->sentence_transformers) (3.1.5)\n",
      "Requirement already satisfied: setuptools in c:\\users\\malat\\appdata\\local\\packages\\pythonsoftwarefoundation.python.3.12_qbz5n2kfra8p0\\localcache\\local-packages\\python312\\site-packages (from torch>=1.11.0->sentence_transformers) (75.8.0)\n",
      "Requirement already satisfied: sympy==1.13.1 in c:\\users\\malat\\appdata\\local\\packages\\pythonsoftwarefoundation.python.3.12_qbz5n2kfra8p0\\localcache\\local-packages\\python312\\site-packages (from torch>=1.11.0->sentence_transformers) (1.13.1)\n",
      "Requirement already satisfied: mpmath<1.4,>=1.1.0 in c:\\users\\malat\\appdata\\local\\packages\\pythonsoftwarefoundation.python.3.12_qbz5n2kfra8p0\\localcache\\local-packages\\python312\\site-packages (from sympy==1.13.1->torch>=1.11.0->sentence_transformers) (1.3.0)\n",
      "Requirement already satisfied: colorama in c:\\users\\malat\\appdata\\local\\packages\\pythonsoftwarefoundation.python.3.12_qbz5n2kfra8p0\\localcache\\local-packages\\python312\\site-packages (from tqdm->sentence_transformers) (0.4.6)\n",
      "Requirement already satisfied: numpy>=1.17 in c:\\users\\malat\\appdata\\local\\packages\\pythonsoftwarefoundation.python.3.12_qbz5n2kfra8p0\\localcache\\local-packages\\python312\\site-packages (from transformers<5.0.0,>=4.41.0->sentence_transformers) (2.2.2)\n",
      "Requirement already satisfied: regex!=2019.12.17 in c:\\users\\malat\\appdata\\local\\packages\\pythonsoftwarefoundation.python.3.12_qbz5n2kfra8p0\\localcache\\local-packages\\python312\\site-packages (from transformers<5.0.0,>=4.41.0->sentence_transformers) (2024.11.6)\n",
      "Requirement already satisfied: tokenizers<0.22,>=0.21 in c:\\users\\malat\\appdata\\local\\packages\\pythonsoftwarefoundation.python.3.12_qbz5n2kfra8p0\\localcache\\local-packages\\python312\\site-packages (from transformers<5.0.0,>=4.41.0->sentence_transformers) (0.21.0)\n",
      "Requirement already satisfied: safetensors>=0.4.1 in c:\\users\\malat\\appdata\\local\\packages\\pythonsoftwarefoundation.python.3.12_qbz5n2kfra8p0\\localcache\\local-packages\\python312\\site-packages (from transformers<5.0.0,>=4.41.0->sentence_transformers) (0.5.2)\n",
      "Requirement already satisfied: joblib>=1.2.0 in c:\\users\\malat\\appdata\\local\\packages\\pythonsoftwarefoundation.python.3.12_qbz5n2kfra8p0\\localcache\\local-packages\\python312\\site-packages (from scikit-learn->sentence_transformers) (1.4.2)\n",
      "Requirement already satisfied: threadpoolctl>=3.1.0 in c:\\users\\malat\\appdata\\local\\packages\\pythonsoftwarefoundation.python.3.12_qbz5n2kfra8p0\\localcache\\local-packages\\python312\\site-packages (from scikit-learn->sentence_transformers) (3.5.0)\n",
      "Requirement already satisfied: jsonpointer>=1.9 in c:\\users\\malat\\appdata\\local\\packages\\pythonsoftwarefoundation.python.3.12_qbz5n2kfra8p0\\localcache\\local-packages\\python312\\site-packages (from jsonpatch<2.0,>=1.33->langchain-core<0.4.0,>=0.3.29->langchain_text_splitters) (3.0.0)\n",
      "Requirement already satisfied: httpx<1,>=0.23.0 in c:\\users\\malat\\appdata\\local\\packages\\pythonsoftwarefoundation.python.3.12_qbz5n2kfra8p0\\localcache\\local-packages\\python312\\site-packages (from langsmith<0.3,>=0.1.125->langchain-core<0.4.0,>=0.3.29->langchain_text_splitters) (0.28.1)\n",
      "Requirement already satisfied: orjson<4.0.0,>=3.9.14 in c:\\users\\malat\\appdata\\local\\packages\\pythonsoftwarefoundation.python.3.12_qbz5n2kfra8p0\\localcache\\local-packages\\python312\\site-packages (from langsmith<0.3,>=0.1.125->langchain-core<0.4.0,>=0.3.29->langchain_text_splitters) (3.10.15)\n",
      "Requirement already satisfied: requests-toolbelt<2.0.0,>=1.0.0 in c:\\users\\malat\\appdata\\local\\packages\\pythonsoftwarefoundation.python.3.12_qbz5n2kfra8p0\\localcache\\local-packages\\python312\\site-packages (from langsmith<0.3,>=0.1.125->langchain-core<0.4.0,>=0.3.29->langchain_text_splitters) (1.0.0)\n",
      "Requirement already satisfied: annotated-types>=0.6.0 in c:\\users\\malat\\appdata\\local\\packages\\pythonsoftwarefoundation.python.3.12_qbz5n2kfra8p0\\localcache\\local-packages\\python312\\site-packages (from pydantic<3.0.0,>=2.7.4->langchain-core<0.4.0,>=0.3.29->langchain_text_splitters) (0.7.0)\n",
      "Requirement already satisfied: pydantic-core==2.27.2 in c:\\users\\malat\\appdata\\local\\packages\\pythonsoftwarefoundation.python.3.12_qbz5n2kfra8p0\\localcache\\local-packages\\python312\\site-packages (from pydantic<3.0.0,>=2.7.4->langchain-core<0.4.0,>=0.3.29->langchain_text_splitters) (2.27.2)\n",
      "Requirement already satisfied: charset-normalizer<4,>=2 in c:\\users\\malat\\appdata\\local\\packages\\pythonsoftwarefoundation.python.3.12_qbz5n2kfra8p0\\localcache\\local-packages\\python312\\site-packages (from requests->huggingface-hub>=0.20.0->sentence_transformers) (3.4.1)\n",
      "Requirement already satisfied: idna<4,>=2.5 in c:\\users\\malat\\appdata\\local\\packages\\pythonsoftwarefoundation.python.3.12_qbz5n2kfra8p0\\localcache\\local-packages\\python312\\site-packages (from requests->huggingface-hub>=0.20.0->sentence_transformers) (3.10)\n",
      "Requirement already satisfied: urllib3<3,>=1.21.1 in c:\\users\\malat\\appdata\\local\\packages\\pythonsoftwarefoundation.python.3.12_qbz5n2kfra8p0\\localcache\\local-packages\\python312\\site-packages (from requests->huggingface-hub>=0.20.0->sentence_transformers) (2.3.0)\n",
      "Requirement already satisfied: certifi>=2017.4.17 in c:\\users\\malat\\appdata\\local\\packages\\pythonsoftwarefoundation.python.3.12_qbz5n2kfra8p0\\localcache\\local-packages\\python312\\site-packages (from requests->huggingface-hub>=0.20.0->sentence_transformers) (2024.12.14)\n",
      "Requirement already satisfied: MarkupSafe>=2.0 in c:\\users\\malat\\appdata\\local\\packages\\pythonsoftwarefoundation.python.3.12_qbz5n2kfra8p0\\localcache\\local-packages\\python312\\site-packages (from jinja2->torch>=1.11.0->sentence_transformers) (3.0.2)\n",
      "Requirement already satisfied: anyio in c:\\users\\malat\\appdata\\local\\packages\\pythonsoftwarefoundation.python.3.12_qbz5n2kfra8p0\\localcache\\local-packages\\python312\\site-packages (from httpx<1,>=0.23.0->langsmith<0.3,>=0.1.125->langchain-core<0.4.0,>=0.3.29->langchain_text_splitters) (4.8.0)\n",
      "Requirement already satisfied: httpcore==1.* in c:\\users\\malat\\appdata\\local\\packages\\pythonsoftwarefoundation.python.3.12_qbz5n2kfra8p0\\localcache\\local-packages\\python312\\site-packages (from httpx<1,>=0.23.0->langsmith<0.3,>=0.1.125->langchain-core<0.4.0,>=0.3.29->langchain_text_splitters) (1.0.7)\n",
      "Requirement already satisfied: h11<0.15,>=0.13 in c:\\users\\malat\\appdata\\local\\packages\\pythonsoftwarefoundation.python.3.12_qbz5n2kfra8p0\\localcache\\local-packages\\python312\\site-packages (from httpcore==1.*->httpx<1,>=0.23.0->langsmith<0.3,>=0.1.125->langchain-core<0.4.0,>=0.3.29->langchain_text_splitters) (0.14.0)\n",
      "Requirement already satisfied: sniffio>=1.1 in c:\\users\\malat\\appdata\\local\\packages\\pythonsoftwarefoundation.python.3.12_qbz5n2kfra8p0\\localcache\\local-packages\\python312\\site-packages (from anyio->httpx<1,>=0.23.0->langsmith<0.3,>=0.1.125->langchain-core<0.4.0,>=0.3.29->langchain_text_splitters) (1.3.1)\n",
      "Note: you may need to restart the kernel to use updated packages.\n"
     ]
    }
   ],
   "source": [
    "%pip install langchain_text_splitters sentence_transformers"
   ]
  },
  {
   "cell_type": "code",
   "execution_count": 30,
   "metadata": {},
   "outputs": [],
   "source": [
    "with open('GenAI.txt', mode ='r', encoding='utf-8') as file:\n",
    "    text = file.read()"
   ]
  },
  {
   "cell_type": "code",
   "execution_count": 27,
   "metadata": {},
   "outputs": [],
   "source": [
    "from langchain_text_splitters import RecursiveCharacterTextSplitter"
   ]
  },
  {
   "cell_type": "code",
   "execution_count": 7,
   "metadata": {},
   "outputs": [],
   "source": [
    "text_splitter = RecursiveCharacterTextSplitter(\n",
    "    # Set a really small chunk size, just to show.\n",
    "    chunk_size=400,\n",
    "    chunk_overlap=20,\n",
    "    length_function=len,\n",
    "    is_separator_regex=False,\n",
    ")"
   ]
  },
  {
   "cell_type": "code",
   "execution_count": 29,
   "metadata": {},
   "outputs": [
    {
     "name": "stdout",
     "output_type": "stream",
     "text": [
      "page_content='Generative artificial intelligence (generative AI, GenAI,[1] or GAI) is a subset of artificial intelligence that uses generative models to produce text, images, videos, or other forms of data.[2][3][4] These models learn the underlying patterns and structures of their training data and use them to produce new data[5][6] based on the input, which often comes in the form of natural language'\n",
      "page_content='of natural language prompts.[7][8]'\n"
     ]
    }
   ],
   "source": [
    "texts = text_splitter.create_documents([text])\n",
    "print(texts[0])\n",
    "print(texts[1])"
   ]
  },
  {
   "cell_type": "code",
   "execution_count": 32,
   "metadata": {},
   "outputs": [
    {
     "data": {
      "text/plain": [
       "116"
      ]
     },
     "execution_count": 32,
     "metadata": {},
     "output_type": "execute_result"
    }
   ],
   "source": [
    "len(texts)"
   ]
  },
  {
   "cell_type": "code",
   "execution_count": 10,
   "metadata": {},
   "outputs": [
    {
     "data": {
      "text/plain": [
       "[Document(metadata={}, page_content='The scale and speed of the generative AI (artificial intelligence) revolution, while offering unprecedented opportunities to advance science, is also challenging the traditional academic research model in fundamental ways. The academic research model and academic institutions are not set up to be nimble in the face of rapidly advancing technologies, and the task of adopting such new technologies'),\n",
       " Document(metadata={}, page_content='new technologies usually falls on individual researchers. Excitement about the opportunities that generative AI brings is leading to a rush of researchers with various levels of technical expertise and access to resources to adopt this new technology, which could lead to many researchers ‘reinventing the wheel’ and research outcomes lacking in ethics, rigor, and reproducibility. This problem not'),\n",
       " Document(metadata={}, page_content='This problem not only applies to generative AI, but could also be true for other upcoming and similarly disruptive technologies. We argue that the current norm of relying on individual researchers for new technology adoption is no longer adequate. It is time that academic institutions and their research organizations such as our own (the Michigan Institute for Data Science) develop new mechanisms'),\n",
       " Document(metadata={}, page_content='new mechanisms to help researchers adopt new technologies, especially those that cause major seismic shifts such as generative AI. We believe this is essential for helping academic researchers stay at the forefront of research and discovery, while preserving the validity and trustworthiness of science.Keywords: institutional transformation, best practices, training, academic researcher, rigor and'),\n",
       " Document(metadata={}, page_content='rigor and reproducibility, institutional supportGenerative AI (artificial intelligence) is a type of AI algorithm that can generate new content (such as text, images, audio, video, and other modalities) that is statistically probable based on the data that the algorithm is trained on (Bommasani et al., 2021; Cao et al., 2023; Dwivedi et al., 2023; Gozalo-Brizuela & Garrido-Merchan, 2023; Vaswani'),\n",
       " Document(metadata={}, page_content='2023; Vaswani et al., 2017). Compared to other types of AI technology, such as natural language processing, generative AI is based on newer AI architectures, most notably transformers and diffusion models, trained on enormous volumes of (sometimes multimodal) data in their natural forms (such as raw texts and images from the internet) without the need of labeling the training data. Generative AI'),\n",
       " Document(metadata={}, page_content='data. Generative AI thus opens up enormous possibilities to revolutionize how AI assists humans in all types of activities that involve interacting with a computer.The emergence of generative AI has tantalized academic researchers with its potential to vastly accelerate research, and even to enable new research, in multiple ways (Boyko et al., 2023; Dwivedi et al., 2023; Microsoft Research'),\n",
       " Document(metadata={}, page_content='Microsoft Research AI4Science and Microsoft Azure Quantum, 2023; Morris, 2023; Wang et al., 2023). The use of domain-agnostic generative tools (such as text and image generation) to improve research productivity, by assisting with routine tasks such as drafting and editing emails and manuscripts, checking for compliance, and facilitating the communication with the lay audience. The use of'),\n",
       " Document(metadata={}, page_content='The use of domain-agnostic generative AI to enhance the research expertise of individual researchers and research teams. This includes summarizing and representing knowledge within disciplines, gathering interdisciplinary insights, and supporting communication for interdisciplinary collaboration. The use of domain-agnostic and domain-specific generative AI to accelerate and automate the research'),\n",
       " Document(metadata={}, page_content='the research process, such as data cleaning, formatting, and imputation; suggesting research hypotheses and selecting experimental parameters; coding, data analysis, and visualization. The use of domain-specific generative models, such as for aerospace engineering or protein structure models, to enable new paths for research discovery.Such possibilities are fueling researchers’ enthusiasm for'),\n",
       " Document(metadata={}, page_content='enthusiasm for incorporating generative AI in research, even though most of generative AI’s potential benefits for research remain to be tested and validated. Of the four types of generative AI use that we mention, the use of domain-specific models has been reported extensively (as examples, see Andrade & Walsh, 2023; Chenthamarakshan et al., 2023; Grisoni et al., 2021; Gu et al., 2023; Hie et'),\n",
       " Document(metadata={}, page_content='al., 2023; Hie et al., 2023; Madani et al., 2023; Zeng et al., 2022). But successes of the first three types of generative AI use in research are only beginning to be reported (see the following examples: Boiko et al., 2023; Ciucă & Ting, 2023; Jablonka et al., 2023; Lyu et al., 2023; Mahjour et al., 2023). This enthusiasm is also accompanied by a lack of preparedness among researchers. In the'),\n",
       " Document(metadata={}, page_content='researchers. In the academic research environment, many faculty members have no concrete idea about how to implement generative AI in their research, or even how to work with generative AI at all, including simply using prompts to query information. Many also do not know a good starting point because new generative AI tools emerge almost daily and there is not an obvious path of skills'),\n",
       " Document(metadata={}, page_content='path of skills progression. A survey that we conducted in November of 2023 of 60 faculty affiliates of the Michigan Institute for Data Science (MIDAS) (Table 1) gives us a glimpse of this picture. Only 12% of the respondents have the expertise to train their own generative AI models; fewer than one-third can run existing models or fine-tune models. Even after ChatGPT, which is supposed to be an'),\n",
       " Document(metadata={}, page_content='supposed to be an easy-to-use tool, became available for almost a year, half of all respondents are not able to use prompts with ChatGPT to obtain good results. The faculty members’ biggest need is to develop skills through training and learning from peers. This closely mirrors a brief survey that we conducted in the summer of 2023 with MIDAS faculty, in which 70% of the 92 respondents indicated'),\n",
       " Document(metadata={}, page_content='indicated that they had no knowledge or only conceptual understanding (as opposed to hands-on practice) with generative AI. We believe this is representative of the academic research scene at this moment across institutions.How do you want to use generative AI in your research?Improving productivity (drafting documents, summarizing documents, etc): 72%Coding: 63%Data analysis and modeling:'),\n",
       " Document(metadata={}, page_content='and modeling: 55%Communication (email, presentation, etc.): 45%Helping with data generation, processing, and documentation: 38%What is the skill level in your research group with regard to generative AI?Can use things like ChatGPT with prompts, but not using them well yet: 47%Can use things like ChatGPT with prompts and can get some good results: 48%Can run existing models: 28%Can fine tune'),\n",
       " Document(metadata={}, page_content='28%Can fine tune existing models: 22%Can train models: 12%What support is important for you to use generative AI in your research?Technical tutorials: 68%Connecting with other researchers exploring GenAI to learn from each other: 60%Brainstorming sessions to develop project / grant ideas: 51%Finding collaborators on grants and projects: 42%Finding students: 42%The enthusiasm and the'),\n",
       " Document(metadata={}, page_content='enthusiasm and the unpreparedness are naturally accompanied by researchers’ concerns about using generative AI. Some concerns are common among generative AI users in many lines of work, and include issues such as data privacy and confidentiality, the biases that the models inherit from the training data, the AI confabulation or hallucination, the opacity of data and training algorithms to the'),\n",
       " Document(metadata={}, page_content='algorithms to the users of generative AI models, thus the inability to assess whether a model is appropriate for a certain type of use (Birhane et al., 2023; Liebrenz et al., 2023; Ray, 2023; Zhuo et al., 2023). In addition, there are also concerns specific to using generative AI for scientific research. The rigor and reproducibility of research with generative AI in the workflow has already'),\n",
       " Document(metadata={}, page_content='has already become a major consideration. Any research with AI models that are not developed locally, and without transparency of data and algorithms, poses fundamental challenges throughout the research workflow, from study design and data query all the way to results validation (Li et al., 2023; Sohn, 2023; Spirling, 2023). Many researchers are already aware of such issues to various degrees.'),\n",
       " Document(metadata={}, page_content='to various degrees. For example, stories about generative AI hallucinating citations are shared widely. But there is very little discussion yet of how well generative AI systems do in coming up with research hypotheses that are creative, testable, and of practical value. So it remains to be seen how the benefits of generative AI in research weigh against the negative consequences.None of these'),\n",
       " Document(metadata={}, page_content='of these concerns are new to academic researchers. There are always hopes and fears when a new technology emerges with the promise of transforming research and people wonder how best to adopt it for research innovation while upholding research integrity. These concerns, however, are amplified in the case of generative AI because of how quickly new AI systems are developed, while our understanding'),\n",
       " Document(metadata={}, page_content='our understanding of the functions and limitations of these systems is still very limited (Bengio et al., 2023; Bommasani et al., 2023). These issues are further exacerbated when researchers at all skill levels rush to adopt generative AI methods in their research and there is not a standard or process for model selection or for quality control of the model use. What we will almost surely'),\n",
       " Document(metadata={}, page_content='will almost surely witness, then, will be a flood of research outcomes and publications of uncertain quality using generative AI, which will likely distract scientists from doing good research in the short term and may even have long-term impacts. Academic researchers are quite aware of these challenges. In fact, at a generative AI faculty workshop in the summer of 2023 (see more description in'),\n",
       " Document(metadata={}, page_content='more description in Section 2.2), the concerns of the attendees were reflected in the following specific topics:A. Understanding model output, upholding research rigor and reproducibility.How to think about research rigor and reproducibility when there is lack of transparency of generative AI models, and when the model output depends on the specific prompts.How to assess the novelty of the'),\n",
       " Document(metadata={}, page_content='the novelty of the model’s output.How to identify and correct bias, misinformation, or erroneous training data and in model outputs.How to think about data provenance and governance with generative AI models.How to quantify uncertainty of model outputs.B. Understanding issues of ethics, authorship, copyright, and privacy.How to cite, acknowledge, and report generative AI in research work.How to'),\n",
       " Document(metadata={}, page_content='work.How to assess issues related to copyrighted training data, and model outputs based on copyrighted training data.How to assess data privacy and confidentiality issues when researchers have little knowledge about the training data.How to assess the balance between privacy / confidentiality and the need for data and model transparency.Patent issues if a research idea is first suggested by'),\n",
       " Document(metadata={}, page_content='first suggested by generative AI.C. Technical and infrastructure considerations with the use of generative AI in research.Choosing a model and comparing models for a particular research question.Fine-tuning models locally and the local resources needed for this.Keeping up-to-date knowledge of generative AI models.It is obvious to us that it is not feasible, or at least highly inefficient, if'),\n",
       " Document(metadata={}, page_content='inefficient, if individual researchers are expected to address such issues themselves not only because most lack the expertise, effort, and resources, but also because they would each be reinventing the wheel. The typical researcher learns to use a new research method on their own or through their collaborators, and gets pointers to resources from someone they happen to interact with. This,'),\n",
       " Document(metadata={}, page_content='with. This, somewhat random, social diffusion will not be sufficient when they need to acquire skills with a new technology overnight and put it to immediate research use, and also goes against the nationwide drive to ensure equitable access to AI technologies (National Artificial Intelligence Research Resource Task Force, 2023). It is also virtually impossible for researchers to individually'),\n",
       " Document(metadata={}, page_content='to individually assess model quality, validity, and reliability, leading to at least some guesswork in adoption and implementation choices.We believe a new model of enabling the adoption of rapidly emerging technologies is sorely needed at this point, and we believe academic institutions and their research centers should play a critical role. Universities are already responsible for providing the'),\n",
       " Document(metadata={}, page_content='for providing the research infrastructure, such as computing centers and research cores for scientific instrumentation, and supporting resource-intensive, large-scale, and high-throughput research. They should also be responsible for enabling the adoption of new technologies in research. Indeed, many universities are already keenly aware of the importance of generative AI and are already'),\n",
       " Document(metadata={}, page_content='AI and are already developing capacity, such as computing resources. The University of Michigan, for example, has just launched UMGPT, which provides a relatively secure environment for campus use, including research use. Some institutions are also training domain-specific generative AI models for academic research such as OLMo (Open Language Model) and the GatorTron (Yang et al., 2022). However,'),\n",
       " Document(metadata={}, page_content='2022). However, these are not enough. We believe that the emergence of generative AI is a call for universities, as the home of new knowledge and the home of academic researchers, to play a much more active role in enabling academic researchers to develop new skills and adopt new research methods in ethical, responsible, and effective ways. This will likely have long-lasting benefits to research'),\n",
       " Document(metadata={}, page_content='to research and discovery. Universities, however, are not set up to be nimble in ways that some businesses can be in response to new technology developments and ‘market trends.’ So what can be done?We advocate for university-level research institutes to fill this need and help complete a solution–implementation–outcome process that will help academic researchers adopt new technologies or research'),\n",
       " Document(metadata={}, page_content='or research standards (solutions) to achieve better research innovation and outcomes (Figure 1). While it is difficult to imagine an entire university being nimble in the face of an emerging technology, an organization within a university can be so. Universities often set up a research institute to advance a research area of importance. Indeed, there are many examples of institutes that have'),\n",
       " Document(metadata={}, page_content='that have spearheaded research in a ‘hot’ area and risen to well-deserved prominence for their work in advancing the frontier, particularly in interdisciplinary areas. But we believe there can be a very different role for a research institute at a university, which can have an even greater impact on science: to serve as a knowledge base and facilitator for the adoption of new methods that have'),\n",
       " Document(metadata={}, page_content='methods that have the potential to transform research across a range of disciplines. Such methods frequently arise in fields such as data science and AI. generative AI is perhaps the best example because of its applicability in almost every line of work and its fast pace of advancement. But it surely is only one of the very first technologies that could bring sweeping changes. Hence, what we'),\n",
       " Document(metadata={}, page_content='Hence, what we advocate for, supporting the adoption of generative AI in research, will be equally relevant for future waves of new technologies. In other words, academic research institutes can play a significant role in institutional transformation by developing and disseminating tools, training researchers, and establishing best practices, all of which are essential for researchers to swiftly'),\n",
       " Document(metadata={}, page_content='to swiftly adopt new technologies to stay at the forefront of research and innovation.Figure 1. Universities should play a significant role to help researchers adopt new technologies and guidelines for research innovation.In the next section, we describe some of the work that we have already started to develop in this new role for our institute. The work is still very preliminary, given that we'),\n",
       " Document(metadata={}, page_content='given that we and the researchers that we support are still at the initial stage of understanding myriad considerations associated with generative AI. But it provides a starting point for further discussion on the institutional effort needed for adopting new technologies in academic research.The Michigan Institute for Data Science (MIDAS) at the University of Michigan (U-M) has been investing'),\n",
       " Document(metadata={}, page_content='has been investing effort for institutional transformation over the past few years, with an initial focus on technical skill development and rigor and reproducibility in data-intensive research. As U-M’s focal point of data science and AI research, the central goal of MIDAS is to enable the transformative use of data science and AI methods for both scientific and societal impact, across an'),\n",
       " Document(metadata={}, page_content='impact, across an enormous array of disciplines with wildly different epistemological approaches and data use practices. Among its many threads of work in enabling research, providing training, and building research collaboration, one component is to teach new research methodology to faculty and staff researchers through a set of summer academies that introduce data science and AI research skills'),\n",
       " Document(metadata={}, page_content='AI research skills from the beginning level to advanced topics. These summer academies started as an experiment because we were uncertain of the needs; but in the past three years, the offering expanded from one week-long bootcamp per year to multiple week-long sessions, and has trained nearly 300 faculty and staff researchers. Our experience demonstrates that faculty and staff researchers need'),\n",
       " Document(metadata={}, page_content='researchers need such opportunities to systematically learn new research methodologies.MIDAS’s effort to improve rigor and reproducibility focuses on filling another important gap (Liu et al., 2022). Many journals, funding agencies, and professional societies have developed clear guidelines, requirements, and incentives for research rigor and reproducibility. Many researchers have a reasonable'),\n",
       " Document(metadata={}, page_content='have a reasonable understanding of the issue and know what outcomes are expected from them. But the reproducibility problem remains serious, especially for data-intensive research that has a long and complex workflow (Hardwicke et al., 2021; Laurinavichyute et al., 2022; Stodden et al., 2018). Through collaboration with the university’s research community, MIDAS has coordinated grassroots efforts'),\n",
       " Document(metadata={}, page_content='grassroots efforts and developed online resources and training to enable rigor and reproducibility in data-intensive research. The MIDAS reproducibility online resource hub has had more than 10,000 visits. MIDAS is now developing a nationwide training program for faculty and staff scientists, funded by the National Institutes of Health, on improving the rigor and reproducibility of data-intensive'),\n",
       " Document(metadata={}, page_content='of data-intensive research. More importantly, through this work we have come to realize that a major gap in the researchers’ efforts to improve reproducibility is that they often lack the means or the expertise to translate guidelines into outcomes. In other words, researchers need to be handed validated methods/tools and know how to use them in order to complete the'),\n",
       " Document(metadata={}, page_content='to complete the solution–implementation–outcome process (Figure 1). In this case, the solution is the reproducible research guidelines; the outcome is more reproducible research; and the implementation is the phase where researchers are equipped with appropriate tools and processes.Such previous work has developed the mindset at MIDAS that allowed the team to plunge into action when generative AI'),\n",
       " Document(metadata={}, page_content='when generative AI ‘stormed’ the world stage. Since early 2023, MIDAS has started developing best practice guidelines, coordinating the exploration of generative AI for research, and providing training for researchers.Just like the researchers themselves, almost all research organizations are scrambling to cope with generative AI and its regulation, which changes quickly. Guidelines in addition'),\n",
       " Document(metadata={}, page_content='in addition to researchers’ discretion are essential because generative AI’s use in research is fraught with issues every step of the way, from whether the training data is appropriate for a particular type of research to the validation of output. Its use to improve productivity can also be tangled with additional issues such as confidentiality and copyright. The National Institutes of Health and'),\n",
       " Document(metadata={}, page_content='of Health and the National Science Foundation, for example, have already formally forbidden the use of generative AI in grant proposal review (National Institutes of Health, 2023; National Science Foundation, 2023). Many journals, such as Nature and Science, also prohibit certain types of usage of text and images created by generative AI (Flanagin et al., 2023; Harker, 2023). Understanding what'),\n",
       " Document(metadata={}, page_content='Understanding what they are or are not allowed to do is an additional challenge for researchers. We expect many such guidelines and that they will evolve quickly with time.To provide a starting point for researchers, MIDAS compiled a set of guidelines that include the following topics:Writing with generative AICan I use generative AI to write research papers?Can I use generative AI to write'),\n",
       " Document(metadata={}, page_content='AI to write grants?Can I use generative AI to help me when I write a literature review section for my paper?Can I use generative AI to write nontechnical summaries, create presentations, and translate my work?Using generative AI to improve productivityCan I use generative AI to review grant proposals or papers?Can I use generative AI to write letters of support?How can I use generative AI as a'),\n",
       " Document(metadata={}, page_content='generative AI as a brainstorming partner in my research?Using generative AI for data generation and analysisCan I use generative AI to write code?Can I use generative AI for data analysis and visualization?Can I use generative AI as a substitute for human participants in surveys?Can I use generative AI to label data?Can I use generative AI to review data for errors and biases?Reporting the use of'),\n",
       " Document(metadata={}, page_content='the use of generative AIHow do I cite contents created or assisted by generative AI?How do I report the use of generative AI models in a paper?Considerations for choosing generative AI modelsHow do I decide which generative AI to use in research?Open sourceAccuracy and precisionCostWhat uniquely generative AI issues should I consider when I adopt generative AI in my research?Ethical issuesBias in'),\n",
       " Document(metadata={}, page_content='issuesBias in dataAI hallucinationPlagiarismPrompt engineeringKnowledge cutoff dataModel continuitySecurityWe selected these topics based on our discussions with researchers in our community. We are updating the guide several times a month as new guidelines are published from federal agencies, funding agencies, professional societies, and journals.2.2. Demonstrating the Use of Generative AI in'),\n",
       " Document(metadata={}, page_content='of Generative AI in Research and Exploring PossibilitiesMany academic researchers may have only tried using ChatGPT to draft an email or to edit some texts, but most of them are aware of the possibility of using generative AI to do much more and to accelerate research and enable new research ideas in many other ways. However, how this can be done is still elusive. For example, many have heard'),\n",
       " Document(metadata={}, page_content='many have heard that generative AI can be used to summarize research literature. However, successful implementations are still very few, and researchers are concerned with many issues associated with such use, such as the indiscriminate inclusion of published work with poor quality or that is irreproducible, and bias against work in non-English languages. Many researchers are also aware that'),\n",
       " Document(metadata={}, page_content='are also aware that generative AI can help with data analysis, but what skills researchers need to have in order to ensure that the analysis is correct is also unclear to many. Domain-specific generative AI models have been used for protein structure research, drug design, material science, and many other fields of inquiry, yet many researchers are unclear what special skills and data are needed'),\n",
       " Document(metadata={}, page_content='and data are needed to train and deploy such models. Exposing researchers to successful examples, therefore, has been one of our top priorities.MIDAS organized a faculty workshop in the summer of 2023 with 92 U-M faculty attendees. Twelve speakers demonstrated how they incorporated generative AI in research (health care research, chemistry, social science, arts and design), and discussed ethical'),\n",
       " Document(metadata={}, page_content='discussed ethical and technical considerations as well as infrastructure challenges. The attendees participated in a few rounds of breakout discussions focusing on how generative AI can be used in research to improve productivity, significant research questions that can be boosted with generative AI, and ethical and technical challenges. The attendees came from 45 academic units at the'),\n",
       " Document(metadata={}, page_content='units at the university, with a diverse range of research areas (Table 2). Such diverse participation is a strong indicator of the widespread interest in generative AI.Arts and DesignBiological ScienceEngineeringArchitecture and Urban PlanningArts and DesignBiostatisticsPhysiologyAerospace EngineeringChemical EngineeringCivil and Environmental EngineeringElectrical Engineering and Computer'),\n",
       " Document(metadata={}, page_content='and Computer ScienceIndustrial and Operations EngineeringMechanical EngineeringNuclear Engineering and Radiological SciencesRoboticsEnvironmental and Earth SciencesMedical ScienceMath and Physical ScienceEnvironment and SustainabilityClimate and Space Science and EngineeringAnesthesiologyCardiac SurgeryComputational Medicine and BioinformaticsInternal MedicineKinesiologyLearning Health'),\n",
       " Document(metadata={}, page_content='Health SciencesOphthalmologyPediatricsPharmacyPsychiatryRadiation OncologyChemistryMathematicsPhysicsStatisticsSocial Science and BusinessBusinessCommunications and MediaInformationPolitical SciencePublic PolicyAlso in summer, 2023, MIDAS organized a webinar series, Generative AI Coast-to-Coast (C2C), together with Johns Hopkins University, Rice University, the International Computer Science'),\n",
       " Document(metadata={}, page_content='Computer Science Institute, The Ohio State University, and University of Washington. The webinars featured eight speakers from the six institutions on “Generative AI in Healthcare,” “Generative AI in the Lab,” “Policy, Ethics and Generative AI,” and “An Under the Hood Look at Generative AI: Potentials and Pitfalls.” The goal of the series was also to demonstrate the successful implementation of'),\n",
       " Document(metadata={}, page_content='implementation of generative AI in research, build collaboration, and point out the cautions to take.Based on our faculty survey, receiving training is their top priority regarding generative AI. Thus, MIDAS has offered a series of hands-on tutorials as the starting point for academic researchers. The focus was not domain-specific generative AI models trained on technical data, such as protein'),\n",
       " Document(metadata={}, page_content='such as protein structures; instead, the focus was on using generative AI, including large language models (LLM), in domain-agnostic ways. The topics included:Writing, planning, and literature review: enhancing professional productivity with generative AICode smarter, not harder: harnessing generative AI for research programming efficiencyIntegrating generative AI into your research workflow:'),\n",
       " Document(metadata={}, page_content='research workflow: using image generation as the exampleMaking generative AI better for you: fine-tuning and experimentation for custom research solutionsHowever, feedback from workshop attendees and researchers in our community indicated that we should have started from an even more basic place and be as hands-on as possible. As shown in Table 1, the vast majority of researchers would like to'),\n",
       " Document(metadata={}, page_content='would like to use generative AI to improve productivity, but only half are getting reasonable results even when using ChatGPT with prompts. Therefore, we are planning a few new tutorial sessions, making them more hands-on, and focusing on more basic tasks. The topics will include:Improving general productivity with ChatGPT: non-research writing (emails, posters and presentations, checking for'),\n",
       " Document(metadata={}, page_content='checking for compliance, letters of recommendation, translation)Finding, synthesizing, and summarizing literature with LLMGenerating simulated data with LLMData analysis and visualization with ChatGPT (text, image, and numeric data)Drafting research articles with ChatGPT (drafting, writing, and formatting bibliographies)During this set of work in the past few months, and through discussions with'),\n",
       " Document(metadata={}, page_content='discussions with our research community, it is increasingly obvious to us that the support MIDAS is providing to academic researchers for generative AI is, in essence, filling the same ‘implementation’ gap that we identified in the solution–implementation–outcome model for research reproducibility (Table 3). In both cases, researchers know that there is a solution for them to do better research:'),\n",
       " Document(metadata={}, page_content='do better research: incorporating generative AI in research, or following guidelines for research reproducibility. They also know in both cases what the ideal outcome should be: accelerated research and innovation, and more rigorous and reproducible research. However, in both cases the gap is that researchers are left to their own devices to implement the solution to achieve the outcome. In both'),\n",
       " Document(metadata={}, page_content='outcome. In both cases, the effort from MIDAS can have a significant impact to fill the implementation gap.Adopting Generative AI for ResearchImproving Research ReproducibilitySolutionGenerative AI as a powerful tool to accelerate the research process, and develop previously infeasible research.Guidelines for improving research reproducibility.Implementation gapMost researchers do not have skills'),\n",
       " Document(metadata={}, page_content='do not have skills and resources to swiftly and responsibly adopt generative AI in research.Most researchers do not have methods/tools at their disposal, and do not have the skills and resources to develop their own tools to improve research reproducibility.The role of academic research institutesIdentify researchers’ needs, develop guidelines, standard processes and tools to adopt generative AI'),\n",
       " Document(metadata={}, page_content='adopt generative AI in research, and enable the wide adoption of such processes and tools.Identify researchers’ needs, develop standard processes and tools to improve research reproducibility and enable the wide adoption of such processes and tools.OutcomeFaster and more innovative research.Improved research reproducibility.However, we do not believe simply providing guidelines, training, and'),\n",
       " Document(metadata={}, page_content='training, and research incubation is enough. Providing expertise to address common considerations might also be essential, which would include helping researchers assess and choose generative AI models for specific research applications; helping them assess model transparency and bias, as well as validating outputs; and, frankly, helping them stay up to date. As wave after wave of generative AI'),\n",
       " Document(metadata={}, page_content='of generative AI methods emerge, it is simply not feasible to expect that academic researchers can always know what newest developments are out there, and upskill in a timely manner, even with all the support that their institutions can provide. For example, just a year ago when ChatGPT first came out, many were dismissive because of the limited input and output formats, the types of generic'),\n",
       " Document(metadata={}, page_content='types of generic information it could handle, privacy concerns, and its knowledge cutoff date. But within merely a year, with the improvements of ChatGPT itself and numerous plug-ins and other additions, ChatGPT can handle many types of files and data, do many types of data analysis and visualization, incorporate specialized knowledge in the model, and search the internet (no knowledge cutoff'),\n",
       " Document(metadata={}, page_content='knowledge cutoff dates anymore) for updated information. Generative AI models can now be downloaded and run local models to get around privacy issues. Multiple generative AI–powered tools are now available to summarize scientific literature. The number of models available to researchers is also growing exponentially. For example, Hugging Face now hosts more than 110,000 transformer-based AI'),\n",
       " Document(metadata={}, page_content='AI models and more than 20,000 diffusion models. Similarly, many model evaluation and validation tools and processes (external or built-in) are now publicly available. In other words, generative AI models and related tools are advancing at a pace much faster than individual researchers can keep up. The next critical step for institutes like MIDAS may need to be developing processes and providing'),\n",
       " Document(metadata={}, page_content='and providing efforts to help researchers choose models, assess and validate outputs, and curate models. In Section 1.2, we described many considerations or concerns that faculty researchers have expressed about using generative AI. Most of these can be addressed much more effectively with institutional effort. This is a direction that we are starting to invest effort in.The academic research'),\n",
       " Document(metadata={}, page_content='academic research model has been evolving, in part because of new demands when the scale of research gets increasingly larger and the nature of research becomes more complex and more interdisciplinary. New AI technologies that use increasingly more massive and complex data and the rapidly evolving requirements of technical expertise demonstrate this point. Two features of generative AI, which are'),\n",
       " Document(metadata={}, page_content='AI, which are distinct from other technologies that have disrupted academic research in the past, seem to accelerate this process: First, generative AI can be used in almost every research field in some way, even though the specific usage in many cases is still being experimented with. Second, generative AI is being adopted at an unprecedented speed, with new models announced almost every day. It'),\n",
       " Document(metadata={}, page_content='every day. It is a technology that advances rapidly and is instantly available to most researchers. We believe that academic researchers should no longer be left to rely on themselves to adopt such new technologies, because they themselves will not be able to fully leverage the potential of such technologies and stay at the forefront of research and discovery. Instead, their institutions should'),\n",
       " Document(metadata={}, page_content='institutions should play a much more active role in addition to providing an enabling infrastructure. Academic institutions evolve at a much slower pace than technologies. Academic appointments, assessments, and support structure are difficult to change, let alone rapidly. However, research institutes within universities can be much more nimble than the entire institution, and they can have a'),\n",
       " Document(metadata={}, page_content='and they can have a significant impact on institutional transformation if they help researchers swiftly and responsibly adopt new technologies and do so ‘at scale and at speed.’With regard to generative AI, helping researchers explore its use, building technical skills, developing best practices, and developing processes still constitute only the beginning stage. We anticipate that, very soon,'),\n",
       " Document(metadata={}, page_content='that, very soon, researchers will encounter the next set of challenges, which will resemble the challenges that we have identified in achieving research reproducibility (Liu et al., 2022). A few examples include:How do researchers choose among domain-agnostic and domain-specific generative AI models? This concerns the utility of a particular model either trained on ‘generic’ data or data only'),\n",
       " Document(metadata={}, page_content='data or data only pertaining to certain research fields; whether a model is good only for a narrow range of research questions, and if so, how narrow? Are most researchers able to assess this individually?How high is the barrier for individual academic researchers to use generative AI models in specific research scenarios? The barrier may well be higher than many are expecting. On the surface,'),\n",
       " Document(metadata={}, page_content='On the surface, publicly available generative AI models are accessible to anyone in the research community. But using such models rigorously for research not only requires proper prompt engineering but also, more importantly, technical skills to assess whether the model is trained appropriately for the specific research purpose, to fine-tune the model locally, and to assess and validate the model'),\n",
       " Document(metadata={}, page_content='validate the model output. The barrier is even higher for models trained with specialized data (such as protein structures).How extensively is any generative AI model validated? How are models compared and benchmarked for addressing a set of research questions? At this point, this is largely unexplored, and it is unlikely to be feasible for most researchers to take on this task on their own.How'),\n",
       " Document(metadata={}, page_content='on their own.How do we avoid black boxes but also balance transparency with the protection of privacy? Issues of transparency are almost unavoidable when researchers use models that are not developed locally; and when the data, training algorithms, and parameters are not accessible. This poses a significant new challenge for the assessment of rigor, reproducibility, interpretability, and ethical'),\n",
       " Document(metadata={}, page_content='and ethical issues of research studies. However, how much transparency is acceptable also depends on many other factors and it will be difficult for individual researchers to decide.We believe such challenges can only be met through much more intensive institutional effort. Few researchers will be able to develop processes and tools to translate guidelines and technical solutions into research'),\n",
       " Document(metadata={}, page_content='into research outcomes all by themselves. Their limitations are the result of limited resources, priorities (publishing and securing grants), and technical skills. Not only is this true in the cases of adopting generative AI for research, but also for new challenges that will arise, including the next wave of AI systems that go beyond generative AI. As such, the role of existing or future'),\n",
       " Document(metadata={}, page_content='existing or future research institutes to support such transformation will need to be strengthened. Such efforts differ from the traditional functions of both research cores (such as computing centers and DNA sequencing centers) and interdisciplinary ‘mission’ centers/institutes. The traditional cores provide instrumentation and technical support for such instrumentation as the hardware for new'),\n",
       " Document(metadata={}, page_content='hardware for new technologies, and traditional research centers/institutes deliver research advances in a specific field or toward a specific objective rather than provide broad-based support. What is needed for broad-based institutional transformation is the development of guidelines, tools, and training to actively bridge the implementation gap. Another example of such transformational effort'),\n",
       " Document(metadata={}, page_content='effort is software engineering for academic research, which strives to build general use research software with industry standards (Connolly et al., 2023).In conclusion, we advocate for research institutes within academic institutions to play a leading role in institutional transformation in the adoption of rapidly advancing and game-changing technologies. This role is becoming critical as'),\n",
       " Document(metadata={}, page_content='critical as technologies such as generative AI are challenging the traditional academic research model and the role of academia in research discovery and innovation. Concerted effort from academic institutions will be indispensable to support the swift and responsible adoption of new technologies. Specifically, for generative AI:University research institutes can coordinate the effort to create,'),\n",
       " Document(metadata={}, page_content='effort to create, validate, and benchmark generative AI tools for various types of research and develop protocols for using them.Through training and disseminating tools and protocols, these organizations can help researchers adopt generative AI efficiently and rigorously.These organizations can collaborate with model developers and methodology experts to develop generative AI for use in various'),\n",
       " Document(metadata={}, page_content='for use in various research contexts that ensure the rigor and reproducibility of such research.In the longer term, these organizations should play a major role to bridge new solutions for research innovation and the desired outcomes.Jing Liu and H. V. Jagadish have no financial or non-financial disclosures to share for this article.Andrade, S. R., & Walsh, H. S. (2023, June 12–16). SafeAeroBERT:'),\n",
       " Document(metadata={}, page_content='SafeAeroBERT: Towards a safety-informed aerospace-specific language model [Video presentation]. AIAA AVIATION 2023 Forum, San Diego, CA, and online. Online publication, Article 3437. https://arc.aiaa.org/doi/10.2514/6.2023-3437 Bengio, Y. et al. (2023, March 22). Pause giant AI experiments: An open letter. Future of Life Institute. https://futureoflife.org/open-letter/pause-giant-ai-experiments/'),\n",
       " Document(metadata={}, page_content='Birhane, A., Kasirzadeh, A., Leslie, D., & Wachter, S. (2023). Science in the age of large language models. Nature Reviews Physics, 5, 277–280. https://doi.org/10.1038/s42254-023-00581-4 Boiko, D. A., MacKnight, R., & Gomes, G. (2023). Emergent autonomous scientific research capabilities of large language models. ArXiv. https://doi.org/10.48550/arXiv.2304.05332 Bommasani, R., Hudson, D. A.,'),\n",
       " Document(metadata={}, page_content='R., Hudson, D. A., Adeli, E., Altman, R., Arora, S., von Arx, S., Bernstein, M.S., Bohg, J., Bosselut, A., Brunskill, E., Brynjolfsson, E., Buch, S., Card, D., Castellon, R., Chatterji, N.S., Chen, A.S., Creel, K.A., Davis, J., Demszky, D ... Liang, P. (2021). On the opportunities and risks of foundation models. ArXiv. https://doi.org/10.48550/arXiv.2108.07258 Bommasani, R., Klyman, K., Longpre,'),\n",
       " Document(metadata={}, page_content='K., Longpre, S., Kapoor, S., Maslej, N., Xiong, B., Zhang, D., & Liang, P. (2023). The foundation model transparency index. ArXiv. https://doi.org/10.48550/arXiv.2310.12941 Boyko, J., Cohen, J., Fox, N., Veiga, M. H., Li, J. I., Liu, J., Modenesi, B., Rauch, A. H., Reid, K. N., Tribedi, S., Visheratina, A., & Xie, X. (2023). An interdisciplinary outlook on large language models for scientific'),\n",
       " Document(metadata={}, page_content='for scientific research. ArXiv. https://doi.org/10.48550/arXiv.2303.04226 Cao, Y., Li, S., Liu, Y., Yan, Z., Dai, Y., Yu, P.S., & Sun. L. (2023) A comprehensive survey of AI-generated content (AIGC): A history of Generative AI from GAN to ChatGPT. ArXiv. https://doi.org/10.48550/arXiv.2303.04226 Chenthamarakshan, V., Hoffman, S. C., Owen, C. D., Lukacik, P., Strain-Damerell, C., Fearon, D.,'),\n",
       " Document(metadata={}, page_content='C., Fearon, D., Malla, T. R., Tumber, A., Schofield, C. J., Duyvesteyn, H. M., Dejnirattisai, W., Carrique, L., Walter, T. S., Screaton, G. R., Matviiuk, T., Mojsilovic, A., Crain, J., Walsh, M. A., Stuart, D. I., & Das, P. (2023). Accelerating drug target inhibitor discovery with a deep generative foundation model. Science Advances, 9(25), Article eadg7865. https://doi.org/10.1126/sciadv.adg7865'),\n",
       " Document(metadata={}, page_content='Ciucă, I., & Ting, Y. S. (2023). Galactic ChitChat: Using large language models to converse with astronomy literature. ArXiv. https://doi.org/10.48550/arXiv.2304.05406 Connolly, A., Hellerstein, J., Alterman, N., Beck, D., Fatland, R., Lazowska, E., Mandava, V., & Stone, S. (2023). Software engineering practices in academia: Promoting the 3Rs—readability, resilience, and reuse. Harvard Data'),\n",
       " Document(metadata={}, page_content='reuse. Harvard Data Science Review, 5(2). https://doi.org/10.1162/99608f92.018bf012 Dwivedi, Y. K., Kshetri, N., Hughes, L., Slade, E. L., Jeyaraj, A., Kar, A. K., Baabdullah, A. M., Koohang, A., Raghavan, V., Ahuja, M. K., Albanna, H., Albashrawi, M. A., Al-Busaidi, A. S., Balakrishnan, J., Barlette, Y., Basu, S., Bose, I., Brooks, L. D., Buhalis, D., ... Wright, R. D. (2023). “So what if'),\n",
       " Document(metadata={}, page_content='(2023). “So what if ChatGPT wrote it?” Multidisciplinary perspectives on opportunities, challenges and implications of generative conversational AI for research, practice and policy. International Journal of Information Management, 71, Article 102642. https://doi.org/10.1016/j.ijinfomgt.2023.102642 Flanagin, A., Bibbins-Domingo, K., Berkwits, M., & Christiansen, S. L. (2023). Nonhuman “authors”'),\n",
       " Document(metadata={}, page_content='Nonhuman “authors” and implications for the integrity of scientific publication and medical knowledge. JAMA, 329(8), 637–639. https://doi.org/10.1001/jama.2023.1344 Gozalo-Brizuela, R., & Garrido-Merchan, E. C. (2023). ChatGPT is not all you need. A state of the art review of large generative AI models. ArXiv. https://doi.org/10.48550/arXiv.2301.04655 Grisoni, F., Huisman, B. J., Button, A. L.,'),\n",
       " Document(metadata={}, page_content='J., Button, A. L., Moret, M., Atz, K., Merk, D., & Schneider, G. (2021). Combining generative artificial intelligence and on-chip synthesis for de novo drug design. Science Advances, 7(24), Article eabg3338. https://doi.org/10.1126/sciadv.abg3338 Gu, Y., Tinn, R., Cheng, H., Lucas, M., Usuyama, N., Liu, X., Naumann, T., Gao, J., & Poon, H. (2021). Domain-specific language model pretraining for'),\n",
       " Document(metadata={}, page_content='pretraining for biomedical natural language processing. ACM Transactions on Computing for Healthcare (HEALTH), 3(1), 1–23. https://doi.org/10.1145/3458754 Hardwicke, T.E., Bohn, M., MacDonald, K, Hembacher, E., Nuijten, M. B., Peloquin, B. N., deMayo, B. E., Long, B., Yoon, E. J., & Frank, M. C. (2021) Analytic reproducibility in articles receiving open data badges at the journal Psychological'),\n",
       " Document(metadata={}, page_content='Psychological Science: an observational study. Royal Society Open Science, 8(1), Article 201494. https://doi.org/10.1098/rsos.201494 Harker, J. (2023, March). Science journals set new authorship guidelines for AI-generated text. Environmental Factor. https://factor.niehs.nih.gov/2023/3/feature/2-artificial-intelligence-ethics Hie, B. L., Shanker, V. R., Xu, D., Bruun, T. U., Weidenbacher, P. A.,'),\n",
       " Document(metadata={}, page_content='P. A., Tang, S., & Kim, P. S. (2023). Efficient evolution of human antibodies from general protein language models. Nature Biotechnology, 42(2), 275–283. https://doi.org/10.1038/s41587-023-01763-2 Jablonka, K. M., Ai, Q., Al-Feghali, A., Badhwar, S., Bocarsly, J. D., Bran, A. M., Bringuier, S., Brinson, L. C., Choudhary, K., Circi, D., Cox, S., de Jong, W., Evans, M., Gastellu, N., Genzling, J.,'),\n",
       " Document(metadata={}, page_content='N., Genzling, J., Gil, M. V., Gupta, A., Hong, Z., Imran, A. ... Blaiszik, B. J. (2023). 14 examples of how LLMs can transform materials science and chemistry: a reflection on a large language model hackathon. Digital Discovery, 2, 1233–1250. https://doi.org/10.1039%2Fd3dd00113j Laurinavichyute, A., Yadav, H., & Vasishth, S. (2022). Share the code, not just the data: A case study of the'),\n",
       " Document(metadata={}, page_content='A case study of the reproducibility of articles published in the Journal of Memory and Language under the open data policy. Journal of Memory and Language, 125, Article 104332. https://doi.org/10.1016/j.jml.2022.104332 Li, B., Qi, P., Liu, B., Di, S., Liu, J., Pei, J., Yi, J., & Zhou, B. (2023). Trustworthy AI: From principles to practices. ACM Computing Surveys, 55(9), Article 177.'),\n",
       " Document(metadata={}, page_content='55(9), Article 177. https://doi.org/10.1145/3555803 Liebrenz, M., Schleifer, R., Buadze, A., Bhugra, D., & Smith, A. (2023). Generating scholarly content with ChatGPT: Ethical challenges for medical publishing. The Lancet Digital Health, 5(3), e105–e106. https://doi.org/10.1016/s2589-7500(23)00019-5 Liu, J., Carlson, J., Pasek, J., Puchala, B., Rao, A., & Jagadish, H. V. (2022). Promoting and'),\n",
       " Document(metadata={}, page_content='Promoting and enabling reproducible data science through a reproducibility challenge. Harvard Data Science Review, 4(3). https://doi.org/10.1162/99608f92.9624ea51 Lyu, Q., Tan, J., Zapadka, M. E., Ponnatapuram, J., Niu, C., Wang, G., & Whitlow, C. T. (2023). Translating radiology reports into plain language using ChatGPT and GPT-4 with prompt learning: Promising results, limitations, and'),\n",
       " Document(metadata={}, page_content='limitations, and potential. ArXiv. https://doi.org/10.48550/arXiv.2303.09038 Madani, A., Krause, B., Greene, E. R., Subramanian, S., Mohr, B. P., Holton, J. M., Olmos, J. L., Xiong, C., Sun, Z. Z., Socher, R., Fraser, J. S., & Naik, N. (2023). Large language models generate functional protein sequences across diverse families. Nature Biotechnology, 41(8), 1099–1106.'),\n",
       " Document(metadata={}, page_content='41(8), 1099–1106. https://doi.org/10.1038/s41587-022-01618-2 Mahjour, B., Hoffstadt, J., & Cernak, T. (2023). Designing chemical reaction arrays using phactor and ChatGPT. Organic Process Research & Development, 27(8), 1510–1516. https://doi.org/10.1021/acs.oprd.3c00186 Microsoft Research AI4Science & Microsoft Azure Quantum. (2023). The impact of large language models on scientific discovery: A'),\n",
       " Document(metadata={}, page_content=\"discovery: A preliminary study using GPT-4. ArXiv. https://doi.org/10.48550/arXiv.2311.07361 Morris, M. R. (2023). Scientists' perspectives on the potential for generative AI in their fields. ArXiv https://doi.org/10.48550/arXiv.2304.01420 National Artificial Intelligence Research Resource Task Force. (2023). Strengthening and democratizing the U.S. Artificial Intelligence innovation ecosystem:\"),\n",
       " Document(metadata={}, page_content='ecosystem: An implementation plan for a National Artificial Intelligence Research Resource. https://www.ai.gov/wp-content/uploads/2023/01/NAIRR-TF-Final-Report-2023.pdf National Institutes of Health. (2023). The use of generative Artificial Intelligence technologies is prohibited for the NIH peer review process. https://grants.nih.gov/grants/guide/notice-files/NOT-OD-23-149.html National Science'),\n",
       " Document(metadata={}, page_content='National Science Foundation. (2023). Notice to research community: Use of generative artificial intelligence technology in the NSF merit review process. https://new.nsf.gov/news/notice-to-the-research-community-on-ai?utm_medium=email&utm_source=govdelivery Ray, P. P. (2023). ChatGPT: A comprehensive review on background, applications, key challenges, bias, ethics, limitations and future scope.'),\n",
       " Document(metadata={}, page_content='and future scope. Internet of Things and Cyber-Physical Systems, 3, 121–154. https://doi.org/10.1016/j.iotcps.2023.04.003 Sohn, E. (2023). The reproducibility issues that haunt health-care AI. Nature, 613(7943), 402–403. https://doi.org/10.1038/d41586-023-00023-2 Spirling, A. (2023). Why open-source generative AI models are an ethical way forward for science. Nature, 616(7957), 413.'),\n",
       " Document(metadata={}, page_content='616(7957), 413. https://doi.org/10.1038/d41586-023-01295-4 Stodden, V., Seiler, J., and Ma, Z. (2018). An empirical analysis of journal policy effectiveness for computational reproducibility. Proceedings of the National Academy of Sciences, 115(11), 2584–2589. https://doi.org/10.1073/pnas.1708290115 Vaswani, A., Shazeer, N., Parmar, N., Uszkoreit, J., Jones, L., Gomez, A. N., Kaiser, L., &'),\n",
       " Document(metadata={}, page_content='N., Kaiser, L., & Polosukhin, I. (2017). Attention is all you need. Advances in Neural Information Processing Systems, 30, 5998–6008. https://papers.nips.cc/paper_files/paper/2017/hash/3f5ee243547dee91fbd053c1c4a845aa-Abstract.html Wang, H., Fu, T., Du, Y. Gao, W., Huang, K., Liu, Z., Chandak, P., Liu, S., Van Katwyk, P., Deac, A., Anandkumar, A., Bergen, K. J., Gomes, C. P., Ho, S., Kohli, P.,'),\n",
       " Document(metadata={}, page_content='Ho, S., Kohli, P., Lasenby, J., Leskovec, J., Liu, T., Manrai, A. K. ... Zitnik, M. (2023) Scientific discovery in the age of artificial intelligence. Nature, 620(7972), 47–60. https://doi.org/10.1038/s41586-023-06221-2 Yang, X., Chen, A., PourNejatian, N., Shin, H. C., Smith, K. E., Parisien, C., Compas, C. B., Martin, C., Flores, M. G., Zhang, Y., Magoc, T., Harle, C. A., Lipori, G. P.,'),\n",
       " Document(metadata={}, page_content='A., Lipori, G. P., Mitchell, D. A., Hogan, W. R., Shenkman, E. A., Bian, J., & Wu, Y. (2022). GatorTron: A large clinical language model to unlock patient information from unstructured electronic health records. ArXiv. https://doi.org/10.48550/arXiv.2203.03540 Zeng, X., Wang, F., Luo, Y., Kang, S. G., Tang, J., Lightstone, F. C., Fang, E. F., Cornell, W., Nussinov, R., & Cheng, F. (2022). Deep'),\n",
       " Document(metadata={}, page_content='F. (2022). Deep generative molecular design reshapes drug discovery. Cell Reports Medicine, 3(12), Article 100794. https://doi.org/10.1016/j.xcrm.2022.100794 Zhuo, T. Y., Huang, Y., Chen, C., & Xing, Z. (2023). Red teaming ChatGPT via Jailbreaking: Bias, robustness, reliability and toxicity. ArXiv. https://doi.org/10.48550/arXiv.2301.12867©2024 Jing Liu and H. V. Jagadish. This article is'),\n",
       " Document(metadata={}, page_content='This article is licensed under a Creative Commons Attribution (CC BY 4.0) International license, except where otherwise indicated with respect to particular material included in the article.')]"
      ]
     },
     "execution_count": 10,
     "metadata": {},
     "output_type": "execute_result"
    }
   ],
   "source": [
    "texts"
   ]
  },
  {
   "cell_type": "code",
   "execution_count": 33,
   "metadata": {},
   "outputs": [
    {
     "name": "stdout",
     "output_type": "stream",
     "text": [
      "Defaulting to user installation because normal site-packages is not writeable\n",
      "Requirement already satisfied: sentence-transformers in c:\\users\\malat\\appdata\\local\\packages\\pythonsoftwarefoundation.python.3.12_qbz5n2kfra8p0\\localcache\\local-packages\\python312\\site-packages (3.3.1)\n",
      "Requirement already satisfied: transformers<5.0.0,>=4.41.0 in c:\\users\\malat\\appdata\\local\\packages\\pythonsoftwarefoundation.python.3.12_qbz5n2kfra8p0\\localcache\\local-packages\\python312\\site-packages (from sentence-transformers) (4.48.0)\n",
      "Requirement already satisfied: tqdm in c:\\users\\malat\\appdata\\local\\packages\\pythonsoftwarefoundation.python.3.12_qbz5n2kfra8p0\\localcache\\local-packages\\python312\\site-packages (from sentence-transformers) (4.67.1)\n",
      "Requirement already satisfied: torch>=1.11.0 in c:\\users\\malat\\appdata\\local\\packages\\pythonsoftwarefoundation.python.3.12_qbz5n2kfra8p0\\localcache\\local-packages\\python312\\site-packages (from sentence-transformers) (2.5.1)\n",
      "Requirement already satisfied: scikit-learn in c:\\users\\malat\\appdata\\local\\packages\\pythonsoftwarefoundation.python.3.12_qbz5n2kfra8p0\\localcache\\local-packages\\python312\\site-packages (from sentence-transformers) (1.6.1)\n",
      "Requirement already satisfied: scipy in c:\\users\\malat\\appdata\\local\\packages\\pythonsoftwarefoundation.python.3.12_qbz5n2kfra8p0\\localcache\\local-packages\\python312\\site-packages (from sentence-transformers) (1.15.1)\n",
      "Requirement already satisfied: huggingface-hub>=0.20.0 in c:\\users\\malat\\appdata\\local\\packages\\pythonsoftwarefoundation.python.3.12_qbz5n2kfra8p0\\localcache\\local-packages\\python312\\site-packages (from sentence-transformers) (0.27.1)\n",
      "Requirement already satisfied: Pillow in c:\\users\\malat\\appdata\\local\\packages\\pythonsoftwarefoundation.python.3.12_qbz5n2kfra8p0\\localcache\\local-packages\\python312\\site-packages (from sentence-transformers) (11.1.0)\n",
      "Requirement already satisfied: filelock in c:\\users\\malat\\appdata\\local\\packages\\pythonsoftwarefoundation.python.3.12_qbz5n2kfra8p0\\localcache\\local-packages\\python312\\site-packages (from huggingface-hub>=0.20.0->sentence-transformers) (3.16.1)\n",
      "Requirement already satisfied: fsspec>=2023.5.0 in c:\\users\\malat\\appdata\\local\\packages\\pythonsoftwarefoundation.python.3.12_qbz5n2kfra8p0\\localcache\\local-packages\\python312\\site-packages (from huggingface-hub>=0.20.0->sentence-transformers) (2024.12.0)\n",
      "Requirement already satisfied: packaging>=20.9 in c:\\users\\malat\\appdata\\local\\packages\\pythonsoftwarefoundation.python.3.12_qbz5n2kfra8p0\\localcache\\local-packages\\python312\\site-packages (from huggingface-hub>=0.20.0->sentence-transformers) (24.2)\n",
      "Requirement already satisfied: pyyaml>=5.1 in c:\\users\\malat\\appdata\\local\\packages\\pythonsoftwarefoundation.python.3.12_qbz5n2kfra8p0\\localcache\\local-packages\\python312\\site-packages (from huggingface-hub>=0.20.0->sentence-transformers) (6.0.2)\n",
      "Requirement already satisfied: requests in c:\\users\\malat\\appdata\\local\\packages\\pythonsoftwarefoundation.python.3.12_qbz5n2kfra8p0\\localcache\\local-packages\\python312\\site-packages (from huggingface-hub>=0.20.0->sentence-transformers) (2.32.3)\n",
      "Requirement already satisfied: typing-extensions>=3.7.4.3 in c:\\users\\malat\\appdata\\local\\packages\\pythonsoftwarefoundation.python.3.12_qbz5n2kfra8p0\\localcache\\local-packages\\python312\\site-packages (from huggingface-hub>=0.20.0->sentence-transformers) (4.12.2)\n",
      "Requirement already satisfied: networkx in c:\\users\\malat\\appdata\\local\\packages\\pythonsoftwarefoundation.python.3.12_qbz5n2kfra8p0\\localcache\\local-packages\\python312\\site-packages (from torch>=1.11.0->sentence-transformers) (3.4.2)\n",
      "Requirement already satisfied: jinja2 in c:\\users\\malat\\appdata\\local\\packages\\pythonsoftwarefoundation.python.3.12_qbz5n2kfra8p0\\localcache\\local-packages\\python312\\site-packages (from torch>=1.11.0->sentence-transformers) (3.1.5)\n",
      "Requirement already satisfied: setuptools in c:\\users\\malat\\appdata\\local\\packages\\pythonsoftwarefoundation.python.3.12_qbz5n2kfra8p0\\localcache\\local-packages\\python312\\site-packages (from torch>=1.11.0->sentence-transformers) (75.8.0)\n",
      "Requirement already satisfied: sympy==1.13.1 in c:\\users\\malat\\appdata\\local\\packages\\pythonsoftwarefoundation.python.3.12_qbz5n2kfra8p0\\localcache\\local-packages\\python312\\site-packages (from torch>=1.11.0->sentence-transformers) (1.13.1)\n",
      "Requirement already satisfied: mpmath<1.4,>=1.1.0 in c:\\users\\malat\\appdata\\local\\packages\\pythonsoftwarefoundation.python.3.12_qbz5n2kfra8p0\\localcache\\local-packages\\python312\\site-packages (from sympy==1.13.1->torch>=1.11.0->sentence-transformers) (1.3.0)\n",
      "Requirement already satisfied: colorama in c:\\users\\malat\\appdata\\local\\packages\\pythonsoftwarefoundation.python.3.12_qbz5n2kfra8p0\\localcache\\local-packages\\python312\\site-packages (from tqdm->sentence-transformers) (0.4.6)\n",
      "Requirement already satisfied: numpy>=1.17 in c:\\users\\malat\\appdata\\local\\packages\\pythonsoftwarefoundation.python.3.12_qbz5n2kfra8p0\\localcache\\local-packages\\python312\\site-packages (from transformers<5.0.0,>=4.41.0->sentence-transformers) (2.2.2)\n",
      "Requirement already satisfied: regex!=2019.12.17 in c:\\users\\malat\\appdata\\local\\packages\\pythonsoftwarefoundation.python.3.12_qbz5n2kfra8p0\\localcache\\local-packages\\python312\\site-packages (from transformers<5.0.0,>=4.41.0->sentence-transformers) (2024.11.6)\n",
      "Requirement already satisfied: tokenizers<0.22,>=0.21 in c:\\users\\malat\\appdata\\local\\packages\\pythonsoftwarefoundation.python.3.12_qbz5n2kfra8p0\\localcache\\local-packages\\python312\\site-packages (from transformers<5.0.0,>=4.41.0->sentence-transformers) (0.21.0)\n",
      "Requirement already satisfied: safetensors>=0.4.1 in c:\\users\\malat\\appdata\\local\\packages\\pythonsoftwarefoundation.python.3.12_qbz5n2kfra8p0\\localcache\\local-packages\\python312\\site-packages (from transformers<5.0.0,>=4.41.0->sentence-transformers) (0.5.2)\n",
      "Requirement already satisfied: joblib>=1.2.0 in c:\\users\\malat\\appdata\\local\\packages\\pythonsoftwarefoundation.python.3.12_qbz5n2kfra8p0\\localcache\\local-packages\\python312\\site-packages (from scikit-learn->sentence-transformers) (1.4.2)\n",
      "Requirement already satisfied: threadpoolctl>=3.1.0 in c:\\users\\malat\\appdata\\local\\packages\\pythonsoftwarefoundation.python.3.12_qbz5n2kfra8p0\\localcache\\local-packages\\python312\\site-packages (from scikit-learn->sentence-transformers) (3.5.0)\n",
      "Requirement already satisfied: MarkupSafe>=2.0 in c:\\users\\malat\\appdata\\local\\packages\\pythonsoftwarefoundation.python.3.12_qbz5n2kfra8p0\\localcache\\local-packages\\python312\\site-packages (from jinja2->torch>=1.11.0->sentence-transformers) (3.0.2)\n",
      "Requirement already satisfied: charset-normalizer<4,>=2 in c:\\users\\malat\\appdata\\local\\packages\\pythonsoftwarefoundation.python.3.12_qbz5n2kfra8p0\\localcache\\local-packages\\python312\\site-packages (from requests->huggingface-hub>=0.20.0->sentence-transformers) (3.4.1)\n",
      "Requirement already satisfied: idna<4,>=2.5 in c:\\users\\malat\\appdata\\local\\packages\\pythonsoftwarefoundation.python.3.12_qbz5n2kfra8p0\\localcache\\local-packages\\python312\\site-packages (from requests->huggingface-hub>=0.20.0->sentence-transformers) (3.10)\n",
      "Requirement already satisfied: urllib3<3,>=1.21.1 in c:\\users\\malat\\appdata\\local\\packages\\pythonsoftwarefoundation.python.3.12_qbz5n2kfra8p0\\localcache\\local-packages\\python312\\site-packages (from requests->huggingface-hub>=0.20.0->sentence-transformers) (2.3.0)\n",
      "Requirement already satisfied: certifi>=2017.4.17 in c:\\users\\malat\\appdata\\local\\packages\\pythonsoftwarefoundation.python.3.12_qbz5n2kfra8p0\\localcache\\local-packages\\python312\\site-packages (from requests->huggingface-hub>=0.20.0->sentence-transformers) (2024.12.14)\n",
      "Note: you may need to restart the kernel to use updated packages.\n"
     ]
    }
   ],
   "source": [
    "%pip install sentence-transformers\n",
    "\n"
   ]
  },
  {
   "cell_type": "code",
   "execution_count": 12,
   "metadata": {},
   "outputs": [
    {
     "name": "stderr",
     "output_type": "stream",
     "text": [
      "C:\\Users\\malat\\AppData\\Local\\Packages\\PythonSoftwareFoundation.Python.3.12_qbz5n2kfra8p0\\LocalCache\\local-packages\\Python312\\site-packages\\tqdm\\auto.py:21: TqdmWarning: IProgress not found. Please update jupyter and ipywidgets. See https://ipywidgets.readthedocs.io/en/stable/user_install.html\n",
      "  from .autonotebook import tqdm as notebook_tqdm\n"
     ]
    }
   ],
   "source": [
    "from sentence_transformers import SentenceTransformer"
   ]
  },
  {
   "cell_type": "code",
   "execution_count": 13,
   "metadata": {},
   "outputs": [],
   "source": [
    "model = SentenceTransformer(\"all-MiniLM-L6-v2\")\n",
    "\n",
    "#embeddings = HuggingFaceEmbeddings(model_name=\"sentence-transformers/all-mpnet-base-v2\")"
   ]
  },
  {
   "cell_type": "code",
   "execution_count": 14,
   "metadata": {},
   "outputs": [
    {
     "data": {
      "text/plain": [
       "array([-3.55103798e-02, -9.30930767e-03,  5.75083867e-02,  3.93864252e-02,\n",
       "       -1.82925779e-02, -3.73146832e-02, -1.38663903e-01,  2.68765795e-03,\n",
       "        6.77183196e-02,  5.75049855e-02, -4.67163473e-02,  1.64376118e-03,\n",
       "       -3.07762679e-02,  9.76842735e-03, -6.88965917e-02,  3.33453827e-02,\n",
       "       -2.98594143e-02, -3.45159099e-02, -3.59976962e-02, -6.35365620e-02,\n",
       "       -7.55837944e-04,  3.38275433e-02,  2.81434692e-02, -5.72845899e-02,\n",
       "        2.20484603e-02,  8.42508227e-02,  3.90014821e-03, -1.05897948e-01,\n",
       "        5.51167736e-03, -2.55011134e-02,  5.63061833e-02,  6.98780641e-02,\n",
       "       -5.43659646e-03,  6.78399056e-02, -4.97939140e-02,  5.03259487e-02,\n",
       "       -2.72649433e-02,  7.80682415e-02,  1.18837856e-01,  1.79873295e-02,\n",
       "        2.79277116e-02, -4.47064042e-02,  5.36776148e-02, -2.05747075e-02,\n",
       "        9.36586931e-02, -4.15890589e-02, -6.47925809e-02, -2.59003099e-02,\n",
       "        7.59950131e-02,  1.66844185e-02, -1.45059451e-01, -8.37924704e-02,\n",
       "       -6.43813284e-03, -1.78388357e-02, -3.29848640e-02,  1.05119813e-02,\n",
       "        8.06954429e-02, -5.61070330e-02, -1.17870411e-02, -4.18520626e-03,\n",
       "       -2.78966327e-04, -1.94712952e-02,  4.12642360e-02, -4.43051048e-02,\n",
       "        6.18686080e-02, -2.08062846e-02, -2.49863137e-02,  4.16503176e-02,\n",
       "        6.87277224e-03,  5.77597995e-04,  7.28411824e-02,  8.31370130e-02,\n",
       "       -2.74135731e-02,  2.66695558e-03,  1.01111643e-01,  2.81327846e-03,\n",
       "       -3.10690850e-02,  4.07993048e-02,  1.60013258e-01, -3.87158729e-02,\n",
       "        5.93480989e-02, -4.98786978e-02,  3.99904419e-03,  2.49645896e-02,\n",
       "       -7.75098950e-02, -3.65837291e-02,  8.19828827e-03,  2.48758569e-02,\n",
       "        4.54154685e-02, -1.63742038e-03,  2.75565474e-03, -2.30023265e-02,\n",
       "       -7.93480373e-04,  1.44143752e-03,  3.95765491e-02,  2.33313255e-02,\n",
       "        3.62914056e-02, -1.03326365e-01,  3.03185638e-02,  3.42437774e-02,\n",
       "       -1.45249553e-02,  8.24818909e-02,  3.45529281e-02, -2.50177644e-02,\n",
       "       -4.45270091e-02, -6.01270199e-02,  7.29893744e-02, -4.04850319e-02,\n",
       "        7.40785897e-02, -2.69214269e-02,  4.54791784e-02, -1.64195411e-02,\n",
       "        6.46355143e-03, -3.98675576e-02, -5.27650490e-02, -2.24696733e-02,\n",
       "       -2.50160904e-03,  7.55183622e-02,  3.07624135e-02,  5.92377670e-02,\n",
       "       -3.60516421e-02,  1.94177660e-03, -2.56753657e-02, -1.94971096e-02,\n",
       "        2.17441637e-02, -3.76166068e-02, -7.52454475e-02, -6.00882177e-34,\n",
       "       -4.75006513e-02,  8.79654847e-03,  1.39470454e-02,  7.50292540e-02,\n",
       "       -1.25778448e-02, -3.57838422e-02, -2.18062606e-02,  4.17245273e-03,\n",
       "       -5.80498241e-02, -1.05018824e-01, -3.27252261e-02,  5.87810688e-02,\n",
       "       -1.06016003e-01,  9.01151523e-02,  4.13298495e-02, -1.04174681e-01,\n",
       "       -6.62888680e-03,  4.22958210e-02, -1.07069472e-02, -4.90549542e-02,\n",
       "        3.32552707e-03, -1.13033563e-01,  5.74470162e-02,  2.39554644e-02,\n",
       "       -5.63074602e-03,  1.85140094e-03,  8.05818418e-05, -6.78798258e-02,\n",
       "       -1.44451549e-02, -2.31483523e-02, -4.02119663e-03,  1.73815582e-02,\n",
       "       -1.28354162e-01, -6.27354458e-02,  6.68850378e-04,  2.17810888e-02,\n",
       "        2.19900031e-02, -3.12608369e-02,  3.18432115e-02,  9.76992026e-02,\n",
       "       -4.68619866e-03,  3.02097481e-02,  5.53741045e-02,  6.54264307e-03,\n",
       "       -5.85408248e-02,  4.95641828e-02,  7.17118382e-02, -7.70055037e-03,\n",
       "        4.86083068e-02, -3.37062404e-02,  3.79763078e-03,  3.37505452e-02,\n",
       "        1.09114572e-02, -7.82267824e-02,  1.19627208e-01,  4.89265770e-02,\n",
       "       -4.26777080e-02,  5.07515036e-02,  3.99970785e-02, -1.00632183e-01,\n",
       "        3.92199829e-02,  6.67821094e-02, -5.05349711e-02,  1.25915363e-01,\n",
       "        4.15211804e-02,  4.32240628e-02, -1.99630894e-02,  1.07813133e-02,\n",
       "        1.44747779e-01,  6.37541637e-02,  8.21285322e-03, -3.61353979e-02,\n",
       "       -5.64379282e-02, -4.96823639e-02, -4.37508523e-02, -7.11570820e-03,\n",
       "       -3.26856188e-02, -9.12856981e-02,  6.21616170e-02,  6.19204203e-03,\n",
       "       -9.32665691e-02,  2.66504195e-02, -1.07361898e-01, -4.33104336e-02,\n",
       "        4.45786417e-02,  6.14403887e-03,  1.32138981e-02,  4.35548164e-02,\n",
       "        5.02550267e-02, -3.90170440e-02,  9.97893978e-03, -2.11887714e-02,\n",
       "       -3.43093678e-04,  4.00946029e-02, -5.39465109e-03, -1.56109672e-33,\n",
       "       -4.55904864e-02, -6.79645017e-02, -4.33259532e-02,  8.84063020e-02,\n",
       "        7.58514106e-02, -5.18195657e-03, -2.07976289e-02, -1.69905648e-02,\n",
       "        2.69526988e-03,  1.08102225e-02,  4.78630066e-02, -4.29031216e-02,\n",
       "       -1.43305922e-03,  1.88975520e-02,  3.12616453e-02, -2.42670905e-02,\n",
       "       -2.17988398e-02, -2.61074677e-03, -3.89949121e-02,  4.55440991e-02,\n",
       "        1.91579424e-02,  5.86218806e-03, -5.94198518e-02, -1.71241872e-02,\n",
       "        1.45162297e-02, -4.10222411e-02, -3.60660404e-02,  1.08158113e-02,\n",
       "       -3.05244438e-02, -3.56829651e-02,  1.40671497e-02, -1.12465844e-02,\n",
       "       -5.82103580e-02,  5.14103137e-02, -3.35994251e-02,  1.47101372e-01,\n",
       "        9.43536013e-02, -1.24505451e-02, -1.12395324e-02,  3.34690809e-02,\n",
       "        3.99472611e-03,  3.27986781e-03, -1.00401640e-01, -4.76848483e-02,\n",
       "        1.13491248e-02, -1.34558007e-02, -3.13444063e-02,  8.26501548e-02,\n",
       "        1.75659545e-02, -7.54173147e-03,  1.90274306e-02, -9.10265651e-03,\n",
       "       -4.02020960e-04, -1.38315320e-01,  1.60401110e-02, -1.69817246e-02,\n",
       "       -1.16477897e-02,  9.94353788e-04, -4.80626710e-02,  9.51159745e-02,\n",
       "       -2.19334569e-02, -1.36892572e-01,  3.49636897e-02,  2.04165075e-02,\n",
       "       -9.41297412e-02, -1.70360130e-04,  2.98449062e-02,  8.41112584e-02,\n",
       "       -7.51533136e-02, -1.20571209e-02,  5.61604053e-02, -3.68014863e-03,\n",
       "        6.12324551e-02,  7.03856274e-02,  4.14140485e-02, -7.12300651e-04,\n",
       "       -2.32568942e-03,  3.00942687e-03,  3.65323946e-02, -5.26175536e-02,\n",
       "        2.02659853e-02, -1.74558554e-02,  8.21953826e-03, -5.64919747e-02,\n",
       "        6.72783144e-03, -3.61431241e-02,  1.53154144e-02, -9.64927860e-03,\n",
       "       -1.24310944e-02, -1.35019037e-03, -1.96022838e-02, -7.97857419e-02,\n",
       "        4.24289145e-03, -2.03085020e-02, -7.74575993e-02, -4.04588114e-08,\n",
       "        4.95936424e-02, -2.10957695e-02,  8.02160129e-02,  2.85782460e-02,\n",
       "        7.28147849e-02, -4.54296079e-03, -4.29355055e-02, -1.92098618e-02,\n",
       "       -2.25718394e-02, -1.95461605e-02, -2.63968919e-04, -9.65326279e-02,\n",
       "        1.82301719e-02,  5.49887009e-02,  9.96083096e-02,  6.03814274e-02,\n",
       "        5.91698997e-02, -2.58595478e-02,  3.96510266e-04, -1.86327323e-02,\n",
       "        4.52774763e-02, -8.54577124e-03, -2.17808187e-02, -2.23673750e-02,\n",
       "        5.99532165e-02, -2.54357345e-02,  8.75829160e-03, -5.51367365e-02,\n",
       "       -7.29710683e-02,  4.95221205e-02, -2.87013873e-02,  1.37536880e-02,\n",
       "       -2.37890873e-02,  2.36488972e-02,  7.50823617e-02, -1.51144536e-02,\n",
       "        5.10973781e-02, -4.72655036e-02, -1.07337488e-02, -8.04987624e-02,\n",
       "       -2.91304626e-02, -9.30123404e-03, -8.56004655e-02, -2.92465333e-02,\n",
       "        3.37174558e-03,  1.93250496e-02, -1.29122380e-02, -1.01661915e-02,\n",
       "        2.84393951e-02,  1.09523401e-01,  6.39871657e-02, -6.30260408e-02,\n",
       "        2.96105258e-02, -1.77626882e-03,  4.47928421e-02,  3.79348285e-02,\n",
       "        5.15598059e-02,  1.88063178e-03, -3.25016007e-02, -3.81322913e-02,\n",
       "        1.60144687e-01, -5.92431612e-02,  6.80782199e-02, -3.78231853e-02],\n",
       "      dtype=float32)"
      ]
     },
     "execution_count": 14,
     "metadata": {},
     "output_type": "execute_result"
    }
   ],
   "source": [
    "embeddings = model.encode(texts[0].page_content)\n",
    "embeddings"
   ]
  },
  {
   "cell_type": "code",
   "execution_count": 15,
   "metadata": {},
   "outputs": [
    {
     "data": {
      "text/plain": [
       "array([-3.55103798e-02, -9.30930767e-03,  5.75083867e-02,  3.93864252e-02,\n",
       "       -1.82925779e-02, -3.73146832e-02, -1.38663903e-01,  2.68765795e-03,\n",
       "        6.77183196e-02,  5.75049855e-02, -4.67163473e-02,  1.64376118e-03,\n",
       "       -3.07762679e-02,  9.76842735e-03, -6.88965917e-02,  3.33453827e-02,\n",
       "       -2.98594143e-02, -3.45159099e-02, -3.59976962e-02, -6.35365620e-02,\n",
       "       -7.55837944e-04,  3.38275433e-02,  2.81434692e-02, -5.72845899e-02,\n",
       "        2.20484603e-02,  8.42508227e-02,  3.90014821e-03, -1.05897948e-01,\n",
       "        5.51167736e-03, -2.55011134e-02,  5.63061833e-02,  6.98780641e-02,\n",
       "       -5.43659646e-03,  6.78399056e-02, -4.97939140e-02,  5.03259487e-02,\n",
       "       -2.72649433e-02,  7.80682415e-02,  1.18837856e-01,  1.79873295e-02,\n",
       "        2.79277116e-02, -4.47064042e-02,  5.36776148e-02, -2.05747075e-02,\n",
       "        9.36586931e-02, -4.15890589e-02, -6.47925809e-02, -2.59003099e-02,\n",
       "        7.59950131e-02,  1.66844185e-02, -1.45059451e-01, -8.37924704e-02,\n",
       "       -6.43813284e-03, -1.78388357e-02, -3.29848640e-02,  1.05119813e-02,\n",
       "        8.06954429e-02, -5.61070330e-02, -1.17870411e-02, -4.18520626e-03,\n",
       "       -2.78966327e-04, -1.94712952e-02,  4.12642360e-02, -4.43051048e-02,\n",
       "        6.18686080e-02, -2.08062846e-02, -2.49863137e-02,  4.16503176e-02,\n",
       "        6.87277224e-03,  5.77597995e-04,  7.28411824e-02,  8.31370130e-02,\n",
       "       -2.74135731e-02,  2.66695558e-03,  1.01111643e-01,  2.81327846e-03,\n",
       "       -3.10690850e-02,  4.07993048e-02,  1.60013258e-01, -3.87158729e-02,\n",
       "        5.93480989e-02, -4.98786978e-02,  3.99904419e-03,  2.49645896e-02,\n",
       "       -7.75098950e-02, -3.65837291e-02,  8.19828827e-03,  2.48758569e-02,\n",
       "        4.54154685e-02, -1.63742038e-03,  2.75565474e-03, -2.30023265e-02,\n",
       "       -7.93480373e-04,  1.44143752e-03,  3.95765491e-02,  2.33313255e-02,\n",
       "        3.62914056e-02, -1.03326365e-01,  3.03185638e-02,  3.42437774e-02,\n",
       "       -1.45249553e-02,  8.24818909e-02,  3.45529281e-02, -2.50177644e-02,\n",
       "       -4.45270091e-02, -6.01270199e-02,  7.29893744e-02, -4.04850319e-02,\n",
       "        7.40785897e-02, -2.69214269e-02,  4.54791784e-02, -1.64195411e-02,\n",
       "        6.46355143e-03, -3.98675576e-02, -5.27650490e-02, -2.24696733e-02,\n",
       "       -2.50160904e-03,  7.55183622e-02,  3.07624135e-02,  5.92377670e-02,\n",
       "       -3.60516421e-02,  1.94177660e-03, -2.56753657e-02, -1.94971096e-02,\n",
       "        2.17441637e-02, -3.76166068e-02, -7.52454475e-02, -6.00882177e-34,\n",
       "       -4.75006513e-02,  8.79654847e-03,  1.39470454e-02,  7.50292540e-02,\n",
       "       -1.25778448e-02, -3.57838422e-02, -2.18062606e-02,  4.17245273e-03,\n",
       "       -5.80498241e-02, -1.05018824e-01, -3.27252261e-02,  5.87810688e-02,\n",
       "       -1.06016003e-01,  9.01151523e-02,  4.13298495e-02, -1.04174681e-01,\n",
       "       -6.62888680e-03,  4.22958210e-02, -1.07069472e-02, -4.90549542e-02,\n",
       "        3.32552707e-03, -1.13033563e-01,  5.74470162e-02,  2.39554644e-02,\n",
       "       -5.63074602e-03,  1.85140094e-03,  8.05818418e-05, -6.78798258e-02,\n",
       "       -1.44451549e-02, -2.31483523e-02, -4.02119663e-03,  1.73815582e-02,\n",
       "       -1.28354162e-01, -6.27354458e-02,  6.68850378e-04,  2.17810888e-02,\n",
       "        2.19900031e-02, -3.12608369e-02,  3.18432115e-02,  9.76992026e-02,\n",
       "       -4.68619866e-03,  3.02097481e-02,  5.53741045e-02,  6.54264307e-03,\n",
       "       -5.85408248e-02,  4.95641828e-02,  7.17118382e-02, -7.70055037e-03,\n",
       "        4.86083068e-02, -3.37062404e-02,  3.79763078e-03,  3.37505452e-02,\n",
       "        1.09114572e-02, -7.82267824e-02,  1.19627208e-01,  4.89265770e-02,\n",
       "       -4.26777080e-02,  5.07515036e-02,  3.99970785e-02, -1.00632183e-01,\n",
       "        3.92199829e-02,  6.67821094e-02, -5.05349711e-02,  1.25915363e-01,\n",
       "        4.15211804e-02,  4.32240628e-02, -1.99630894e-02,  1.07813133e-02,\n",
       "        1.44747779e-01,  6.37541637e-02,  8.21285322e-03, -3.61353979e-02,\n",
       "       -5.64379282e-02, -4.96823639e-02, -4.37508523e-02, -7.11570820e-03,\n",
       "       -3.26856188e-02, -9.12856981e-02,  6.21616170e-02,  6.19204203e-03,\n",
       "       -9.32665691e-02,  2.66504195e-02, -1.07361898e-01, -4.33104336e-02,\n",
       "        4.45786417e-02,  6.14403887e-03,  1.32138981e-02,  4.35548164e-02,\n",
       "        5.02550267e-02, -3.90170440e-02,  9.97893978e-03, -2.11887714e-02,\n",
       "       -3.43093678e-04,  4.00946029e-02, -5.39465109e-03, -1.56109672e-33,\n",
       "       -4.55904864e-02, -6.79645017e-02, -4.33259532e-02,  8.84063020e-02,\n",
       "        7.58514106e-02, -5.18195657e-03, -2.07976289e-02, -1.69905648e-02,\n",
       "        2.69526988e-03,  1.08102225e-02,  4.78630066e-02, -4.29031216e-02,\n",
       "       -1.43305922e-03,  1.88975520e-02,  3.12616453e-02, -2.42670905e-02,\n",
       "       -2.17988398e-02, -2.61074677e-03, -3.89949121e-02,  4.55440991e-02,\n",
       "        1.91579424e-02,  5.86218806e-03, -5.94198518e-02, -1.71241872e-02,\n",
       "        1.45162297e-02, -4.10222411e-02, -3.60660404e-02,  1.08158113e-02,\n",
       "       -3.05244438e-02, -3.56829651e-02,  1.40671497e-02, -1.12465844e-02,\n",
       "       -5.82103580e-02,  5.14103137e-02, -3.35994251e-02,  1.47101372e-01,\n",
       "        9.43536013e-02, -1.24505451e-02, -1.12395324e-02,  3.34690809e-02,\n",
       "        3.99472611e-03,  3.27986781e-03, -1.00401640e-01, -4.76848483e-02,\n",
       "        1.13491248e-02, -1.34558007e-02, -3.13444063e-02,  8.26501548e-02,\n",
       "        1.75659545e-02, -7.54173147e-03,  1.90274306e-02, -9.10265651e-03,\n",
       "       -4.02020960e-04, -1.38315320e-01,  1.60401110e-02, -1.69817246e-02,\n",
       "       -1.16477897e-02,  9.94353788e-04, -4.80626710e-02,  9.51159745e-02,\n",
       "       -2.19334569e-02, -1.36892572e-01,  3.49636897e-02,  2.04165075e-02,\n",
       "       -9.41297412e-02, -1.70360130e-04,  2.98449062e-02,  8.41112584e-02,\n",
       "       -7.51533136e-02, -1.20571209e-02,  5.61604053e-02, -3.68014863e-03,\n",
       "        6.12324551e-02,  7.03856274e-02,  4.14140485e-02, -7.12300651e-04,\n",
       "       -2.32568942e-03,  3.00942687e-03,  3.65323946e-02, -5.26175536e-02,\n",
       "        2.02659853e-02, -1.74558554e-02,  8.21953826e-03, -5.64919747e-02,\n",
       "        6.72783144e-03, -3.61431241e-02,  1.53154144e-02, -9.64927860e-03,\n",
       "       -1.24310944e-02, -1.35019037e-03, -1.96022838e-02, -7.97857419e-02,\n",
       "        4.24289145e-03, -2.03085020e-02, -7.74575993e-02, -4.04588114e-08,\n",
       "        4.95936424e-02, -2.10957695e-02,  8.02160129e-02,  2.85782460e-02,\n",
       "        7.28147849e-02, -4.54296079e-03, -4.29355055e-02, -1.92098618e-02,\n",
       "       -2.25718394e-02, -1.95461605e-02, -2.63968919e-04, -9.65326279e-02,\n",
       "        1.82301719e-02,  5.49887009e-02,  9.96083096e-02,  6.03814274e-02,\n",
       "        5.91698997e-02, -2.58595478e-02,  3.96510266e-04, -1.86327323e-02,\n",
       "        4.52774763e-02, -8.54577124e-03, -2.17808187e-02, -2.23673750e-02,\n",
       "        5.99532165e-02, -2.54357345e-02,  8.75829160e-03, -5.51367365e-02,\n",
       "       -7.29710683e-02,  4.95221205e-02, -2.87013873e-02,  1.37536880e-02,\n",
       "       -2.37890873e-02,  2.36488972e-02,  7.50823617e-02, -1.51144536e-02,\n",
       "        5.10973781e-02, -4.72655036e-02, -1.07337488e-02, -8.04987624e-02,\n",
       "       -2.91304626e-02, -9.30123404e-03, -8.56004655e-02, -2.92465333e-02,\n",
       "        3.37174558e-03,  1.93250496e-02, -1.29122380e-02, -1.01661915e-02,\n",
       "        2.84393951e-02,  1.09523401e-01,  6.39871657e-02, -6.30260408e-02,\n",
       "        2.96105258e-02, -1.77626882e-03,  4.47928421e-02,  3.79348285e-02,\n",
       "        5.15598059e-02,  1.88063178e-03, -3.25016007e-02, -3.81322913e-02,\n",
       "        1.60144687e-01, -5.92431612e-02,  6.80782199e-02, -3.78231853e-02],\n",
       "      dtype=float32)"
      ]
     },
     "execution_count": 15,
     "metadata": {},
     "output_type": "execute_result"
    }
   ],
   "source": [
    "embeddings"
   ]
  },
  {
   "cell_type": "code",
   "execution_count": 16,
   "metadata": {},
   "outputs": [
    {
     "name": "stdout",
     "output_type": "stream",
     "text": [
      "Note: you may need to restart the kernel to use updated packages.\n"
     ]
    }
   ],
   "source": [
    "pip install -qU langchain-huggingface"
   ]
  },
  {
   "cell_type": "code",
   "execution_count": 17,
   "metadata": {},
   "outputs": [],
   "source": [
    "from langchain_huggingface import HuggingFaceEmbeddings\n",
    "embeddings = HuggingFaceEmbeddings(model_name=\"all-MiniLM-L6-v2\")"
   ]
  },
  {
   "cell_type": "code",
   "execution_count": 18,
   "metadata": {},
   "outputs": [
    {
     "name": "stdout",
     "output_type": "stream",
     "text": [
      "Note: you may need to restart the kernel to use updated packages.\n"
     ]
    }
   ],
   "source": [
    "%pip install -qU faiss-cpu langchain_community"
   ]
  },
  {
   "cell_type": "code",
   "execution_count": 19,
   "metadata": {},
   "outputs": [],
   "source": [
    "import faiss\n",
    "from langchain_community.docstore.in_memory import InMemoryDocstore\n",
    "from langchain_community.vectorstores import FAISS"
   ]
  },
  {
   "cell_type": "code",
   "execution_count": 23,
   "metadata": {},
   "outputs": [],
   "source": [
    "db = FAISS.from_documents(texts[:30],embeddings)"
   ]
  },
  {
   "cell_type": "code",
   "execution_count": 25,
   "metadata": {},
   "outputs": [],
   "source": [
    "retriever = db.as_retriever(search_type=\"similarity\", search_kwargs={\"k\":3,\"fetch_k\": 2},)\n",
    "\n",
    "retrived_docs = retriever.invoke(\"What is Generative AI\")"
   ]
  },
  {
   "cell_type": "code",
   "execution_count": 47,
   "metadata": {},
   "outputs": [
    {
     "name": "stdout",
     "output_type": "stream",
     "text": [
      "data. Generative AI thus opens up enormous possibilities to revolutionize how AI assists humans in all types of activities that involve interacting with a computer.The emergence of generative AI has tantalized academic researchers with its potential to vastly accelerate research, and even to enable new research, in multiple ways (Boyko et al., 2023; Dwivedi et al., 2023; Microsoft Research\n"
     ]
    }
   ],
   "source": [
    "print(retrived_docs [1].page_content)"
   ]
  },
  {
   "cell_type": "code",
   "execution_count": 22,
   "metadata": {},
   "outputs": [],
   "source": [
    "index = faiss.IndexFlatL2(len(embeddings.embed_query(\"hello world\")))\n",
    "\n",
    "vector_store = FAISS(\n",
    "    embedding_function=embeddings,\n",
    "    index=index,\n",
    "    docstore=InMemoryDocstore(),\n",
    "    index_to_docstore_id={},\n",
    ")"
   ]
  },
  {
   "cell_type": "code",
   "execution_count": null,
   "metadata": {},
   "outputs": [],
   "source": [
    "%pip install -qU faiss-cpu langchain_community"
   ]
  },
  {
   "cell_type": "code",
   "execution_count": 43,
   "metadata": {},
   "outputs": [],
   "source": [
    "# from langchain_core.documents import Document\n",
    "# from uuid import uuid4\n",
    "\n",
    "# docs = []\n",
    "\n",
    "# doc = Document(page_content=texts.page_content,metadata={\"source\":f\"{file}\"})\n",
    "# docs.append(doc)"
   ]
  },
  {
   "cell_type": "code",
   "execution_count": 48,
   "metadata": {},
   "outputs": [
    {
     "name": "stdout",
     "output_type": "stream",
     "text": [
      "Defaulting to user installation because normal site-packages is not writeable\n",
      "Collecting langchain-mistralai\n",
      "  Using cached langchain_mistralai-0.2.4-py3-none-any.whl.metadata (2.5 kB)\n",
      "Requirement already satisfied: httpx<1,>=0.25.2 in c:\\users\\malat\\appdata\\local\\packages\\pythonsoftwarefoundation.python.3.12_qbz5n2kfra8p0\\localcache\\local-packages\\python312\\site-packages (from langchain-mistralai) (0.28.1)\n",
      "Requirement already satisfied: httpx-sse<1,>=0.3.1 in c:\\users\\malat\\appdata\\local\\packages\\pythonsoftwarefoundation.python.3.12_qbz5n2kfra8p0\\localcache\\local-packages\\python312\\site-packages (from langchain-mistralai) (0.4.0)\n",
      "Requirement already satisfied: langchain-core<0.4.0,>=0.3.27 in c:\\users\\malat\\appdata\\local\\packages\\pythonsoftwarefoundation.python.3.12_qbz5n2kfra8p0\\localcache\\local-packages\\python312\\site-packages (from langchain-mistralai) (0.3.30)\n",
      "Requirement already satisfied: pydantic<3,>=2 in c:\\users\\malat\\appdata\\local\\packages\\pythonsoftwarefoundation.python.3.12_qbz5n2kfra8p0\\localcache\\local-packages\\python312\\site-packages (from langchain-mistralai) (2.10.5)\n",
      "Requirement already satisfied: tokenizers<1,>=0.15.1 in c:\\users\\malat\\appdata\\local\\packages\\pythonsoftwarefoundation.python.3.12_qbz5n2kfra8p0\\localcache\\local-packages\\python312\\site-packages (from langchain-mistralai) (0.21.0)\n",
      "Requirement already satisfied: anyio in c:\\users\\malat\\appdata\\local\\packages\\pythonsoftwarefoundation.python.3.12_qbz5n2kfra8p0\\localcache\\local-packages\\python312\\site-packages (from httpx<1,>=0.25.2->langchain-mistralai) (4.8.0)\n",
      "Requirement already satisfied: certifi in c:\\users\\malat\\appdata\\local\\packages\\pythonsoftwarefoundation.python.3.12_qbz5n2kfra8p0\\localcache\\local-packages\\python312\\site-packages (from httpx<1,>=0.25.2->langchain-mistralai) (2024.12.14)\n",
      "Requirement already satisfied: httpcore==1.* in c:\\users\\malat\\appdata\\local\\packages\\pythonsoftwarefoundation.python.3.12_qbz5n2kfra8p0\\localcache\\local-packages\\python312\\site-packages (from httpx<1,>=0.25.2->langchain-mistralai) (1.0.7)\n",
      "Requirement already satisfied: idna in c:\\users\\malat\\appdata\\local\\packages\\pythonsoftwarefoundation.python.3.12_qbz5n2kfra8p0\\localcache\\local-packages\\python312\\site-packages (from httpx<1,>=0.25.2->langchain-mistralai) (3.10)\n",
      "Requirement already satisfied: h11<0.15,>=0.13 in c:\\users\\malat\\appdata\\local\\packages\\pythonsoftwarefoundation.python.3.12_qbz5n2kfra8p0\\localcache\\local-packages\\python312\\site-packages (from httpcore==1.*->httpx<1,>=0.25.2->langchain-mistralai) (0.14.0)\n",
      "Requirement already satisfied: PyYAML>=5.3 in c:\\users\\malat\\appdata\\local\\packages\\pythonsoftwarefoundation.python.3.12_qbz5n2kfra8p0\\localcache\\local-packages\\python312\\site-packages (from langchain-core<0.4.0,>=0.3.27->langchain-mistralai) (6.0.2)\n",
      "Requirement already satisfied: jsonpatch<2.0,>=1.33 in c:\\users\\malat\\appdata\\local\\packages\\pythonsoftwarefoundation.python.3.12_qbz5n2kfra8p0\\localcache\\local-packages\\python312\\site-packages (from langchain-core<0.4.0,>=0.3.27->langchain-mistralai) (1.33)\n",
      "Requirement already satisfied: langsmith<0.3,>=0.1.125 in c:\\users\\malat\\appdata\\local\\packages\\pythonsoftwarefoundation.python.3.12_qbz5n2kfra8p0\\localcache\\local-packages\\python312\\site-packages (from langchain-core<0.4.0,>=0.3.27->langchain-mistralai) (0.2.11)\n",
      "Requirement already satisfied: packaging<25,>=23.2 in c:\\users\\malat\\appdata\\local\\packages\\pythonsoftwarefoundation.python.3.12_qbz5n2kfra8p0\\localcache\\local-packages\\python312\\site-packages (from langchain-core<0.4.0,>=0.3.27->langchain-mistralai) (24.2)\n",
      "Requirement already satisfied: tenacity!=8.4.0,<10.0.0,>=8.1.0 in c:\\users\\malat\\appdata\\local\\packages\\pythonsoftwarefoundation.python.3.12_qbz5n2kfra8p0\\localcache\\local-packages\\python312\\site-packages (from langchain-core<0.4.0,>=0.3.27->langchain-mistralai) (9.0.0)\n",
      "Requirement already satisfied: typing-extensions>=4.7 in c:\\users\\malat\\appdata\\local\\packages\\pythonsoftwarefoundation.python.3.12_qbz5n2kfra8p0\\localcache\\local-packages\\python312\\site-packages (from langchain-core<0.4.0,>=0.3.27->langchain-mistralai) (4.12.2)\n",
      "Requirement already satisfied: annotated-types>=0.6.0 in c:\\users\\malat\\appdata\\local\\packages\\pythonsoftwarefoundation.python.3.12_qbz5n2kfra8p0\\localcache\\local-packages\\python312\\site-packages (from pydantic<3,>=2->langchain-mistralai) (0.7.0)\n",
      "Requirement already satisfied: pydantic-core==2.27.2 in c:\\users\\malat\\appdata\\local\\packages\\pythonsoftwarefoundation.python.3.12_qbz5n2kfra8p0\\localcache\\local-packages\\python312\\site-packages (from pydantic<3,>=2->langchain-mistralai) (2.27.2)\n",
      "Requirement already satisfied: huggingface-hub<1.0,>=0.16.4 in c:\\users\\malat\\appdata\\local\\packages\\pythonsoftwarefoundation.python.3.12_qbz5n2kfra8p0\\localcache\\local-packages\\python312\\site-packages (from tokenizers<1,>=0.15.1->langchain-mistralai) (0.27.1)\n",
      "Requirement already satisfied: filelock in c:\\users\\malat\\appdata\\local\\packages\\pythonsoftwarefoundation.python.3.12_qbz5n2kfra8p0\\localcache\\local-packages\\python312\\site-packages (from huggingface-hub<1.0,>=0.16.4->tokenizers<1,>=0.15.1->langchain-mistralai) (3.16.1)\n",
      "Requirement already satisfied: fsspec>=2023.5.0 in c:\\users\\malat\\appdata\\local\\packages\\pythonsoftwarefoundation.python.3.12_qbz5n2kfra8p0\\localcache\\local-packages\\python312\\site-packages (from huggingface-hub<1.0,>=0.16.4->tokenizers<1,>=0.15.1->langchain-mistralai) (2024.12.0)\n",
      "Requirement already satisfied: requests in c:\\users\\malat\\appdata\\local\\packages\\pythonsoftwarefoundation.python.3.12_qbz5n2kfra8p0\\localcache\\local-packages\\python312\\site-packages (from huggingface-hub<1.0,>=0.16.4->tokenizers<1,>=0.15.1->langchain-mistralai) (2.32.3)\n",
      "Requirement already satisfied: tqdm>=4.42.1 in c:\\users\\malat\\appdata\\local\\packages\\pythonsoftwarefoundation.python.3.12_qbz5n2kfra8p0\\localcache\\local-packages\\python312\\site-packages (from huggingface-hub<1.0,>=0.16.4->tokenizers<1,>=0.15.1->langchain-mistralai) (4.67.1)\n",
      "Requirement already satisfied: jsonpointer>=1.9 in c:\\users\\malat\\appdata\\local\\packages\\pythonsoftwarefoundation.python.3.12_qbz5n2kfra8p0\\localcache\\local-packages\\python312\\site-packages (from jsonpatch<2.0,>=1.33->langchain-core<0.4.0,>=0.3.27->langchain-mistralai) (3.0.0)\n",
      "Requirement already satisfied: orjson<4.0.0,>=3.9.14 in c:\\users\\malat\\appdata\\local\\packages\\pythonsoftwarefoundation.python.3.12_qbz5n2kfra8p0\\localcache\\local-packages\\python312\\site-packages (from langsmith<0.3,>=0.1.125->langchain-core<0.4.0,>=0.3.27->langchain-mistralai) (3.10.15)\n",
      "Requirement already satisfied: requests-toolbelt<2.0.0,>=1.0.0 in c:\\users\\malat\\appdata\\local\\packages\\pythonsoftwarefoundation.python.3.12_qbz5n2kfra8p0\\localcache\\local-packages\\python312\\site-packages (from langsmith<0.3,>=0.1.125->langchain-core<0.4.0,>=0.3.27->langchain-mistralai) (1.0.0)\n",
      "Requirement already satisfied: sniffio>=1.1 in c:\\users\\malat\\appdata\\local\\packages\\pythonsoftwarefoundation.python.3.12_qbz5n2kfra8p0\\localcache\\local-packages\\python312\\site-packages (from anyio->httpx<1,>=0.25.2->langchain-mistralai) (1.3.1)\n",
      "Requirement already satisfied: charset-normalizer<4,>=2 in c:\\users\\malat\\appdata\\local\\packages\\pythonsoftwarefoundation.python.3.12_qbz5n2kfra8p0\\localcache\\local-packages\\python312\\site-packages (from requests->huggingface-hub<1.0,>=0.16.4->tokenizers<1,>=0.15.1->langchain-mistralai) (3.4.1)\n",
      "Requirement already satisfied: urllib3<3,>=1.21.1 in c:\\users\\malat\\appdata\\local\\packages\\pythonsoftwarefoundation.python.3.12_qbz5n2kfra8p0\\localcache\\local-packages\\python312\\site-packages (from requests->huggingface-hub<1.0,>=0.16.4->tokenizers<1,>=0.15.1->langchain-mistralai) (2.3.0)\n",
      "Requirement already satisfied: colorama in c:\\users\\malat\\appdata\\local\\packages\\pythonsoftwarefoundation.python.3.12_qbz5n2kfra8p0\\localcache\\local-packages\\python312\\site-packages (from tqdm>=4.42.1->huggingface-hub<1.0,>=0.16.4->tokenizers<1,>=0.15.1->langchain-mistralai) (0.4.6)\n",
      "Using cached langchain_mistralai-0.2.4-py3-none-any.whl (15 kB)\n",
      "Installing collected packages: langchain-mistralai\n",
      "Successfully installed langchain-mistralai-0.2.4\n"
     ]
    }
   ],
   "source": [
    "!pip install langchain-mistralai"
   ]
  },
  {
   "cell_type": "code",
   "execution_count": 49,
   "metadata": {},
   "outputs": [],
   "source": [
    "from langchain_huggingface.llms import HuggingFacePipeline\n",
    "from langchain.prompts import PromptTemplate\n",
    "from transformers import pipeline\n",
    "from langchain_core.output_parsers import StrOutputParser\n",
    "import torch\n",
    "from transformers import AutoModelForCausalLM, AutoTokenizer\n",
    "from langchain_mistralai import ChatMistralAI"
   ]
  },
  {
   "cell_type": "code",
   "execution_count": 54,
   "metadata": {},
   "outputs": [],
   "source": [
    "from transformers import AutoModel, AutoTokenizer"
   ]
  },
  {
   "cell_type": "code",
   "execution_count": 67,
   "metadata": {},
   "outputs": [],
   "source": [
    "import os\n",
    "os.environ[\"Mistral_AI_Key\"] = \"EuSrj5pcg2FcidebqKMA4gCJfEFQuddP\"  # Replace with your actual token"
   ]
  },
  {
   "cell_type": "code",
   "execution_count": 69,
   "metadata": {},
   "outputs": [],
   "source": [
    "llm = ChatMistralAI(\n",
    "     model=\"mistral-large-latest\",\n",
    "     temperature=0,\n",
    "     max_retries=2,\n",
    "     mistral_api_key = \"EuSrj5pcg2FcidebqKMA4gCJfEFQuddP\"\n",
    "     # other params...\n",
    " )"
   ]
  },
  {
   "cell_type": "code",
   "execution_count": 71,
   "metadata": {},
   "outputs": [
    {
     "name": "stdout",
     "output_type": "stream",
     "text": [
      "Defaulting to user installation because normal site-packages is not writeableNote: you may need to restart the kernel to use updated packages.\n",
      "\n",
      "Requirement already satisfied: huggingface_hub in c:\\users\\malat\\appdata\\local\\packages\\pythonsoftwarefoundation.python.3.12_qbz5n2kfra8p0\\localcache\\local-packages\\python312\\site-packages (0.27.1)\n",
      "Requirement already satisfied: filelock in c:\\users\\malat\\appdata\\local\\packages\\pythonsoftwarefoundation.python.3.12_qbz5n2kfra8p0\\localcache\\local-packages\\python312\\site-packages (from huggingface_hub) (3.16.1)\n",
      "Requirement already satisfied: fsspec>=2023.5.0 in c:\\users\\malat\\appdata\\local\\packages\\pythonsoftwarefoundation.python.3.12_qbz5n2kfra8p0\\localcache\\local-packages\\python312\\site-packages (from huggingface_hub) (2024.12.0)\n",
      "Requirement already satisfied: packaging>=20.9 in c:\\users\\malat\\appdata\\local\\packages\\pythonsoftwarefoundation.python.3.12_qbz5n2kfra8p0\\localcache\\local-packages\\python312\\site-packages (from huggingface_hub) (24.2)\n",
      "Requirement already satisfied: pyyaml>=5.1 in c:\\users\\malat\\appdata\\local\\packages\\pythonsoftwarefoundation.python.3.12_qbz5n2kfra8p0\\localcache\\local-packages\\python312\\site-packages (from huggingface_hub) (6.0.2)\n",
      "Requirement already satisfied: requests in c:\\users\\malat\\appdata\\local\\packages\\pythonsoftwarefoundation.python.3.12_qbz5n2kfra8p0\\localcache\\local-packages\\python312\\site-packages (from huggingface_hub) (2.32.3)\n",
      "Requirement already satisfied: tqdm>=4.42.1 in c:\\users\\malat\\appdata\\local\\packages\\pythonsoftwarefoundation.python.3.12_qbz5n2kfra8p0\\localcache\\local-packages\\python312\\site-packages (from huggingface_hub) (4.67.1)\n",
      "Requirement already satisfied: typing-extensions>=3.7.4.3 in c:\\users\\malat\\appdata\\local\\packages\\pythonsoftwarefoundation.python.3.12_qbz5n2kfra8p0\\localcache\\local-packages\\python312\\site-packages (from huggingface_hub) (4.12.2)\n",
      "Requirement already satisfied: colorama in c:\\users\\malat\\appdata\\local\\packages\\pythonsoftwarefoundation.python.3.12_qbz5n2kfra8p0\\localcache\\local-packages\\python312\\site-packages (from tqdm>=4.42.1->huggingface_hub) (0.4.6)\n",
      "Requirement already satisfied: charset-normalizer<4,>=2 in c:\\users\\malat\\appdata\\local\\packages\\pythonsoftwarefoundation.python.3.12_qbz5n2kfra8p0\\localcache\\local-packages\\python312\\site-packages (from requests->huggingface_hub) (3.4.1)\n",
      "Requirement already satisfied: idna<4,>=2.5 in c:\\users\\malat\\appdata\\local\\packages\\pythonsoftwarefoundation.python.3.12_qbz5n2kfra8p0\\localcache\\local-packages\\python312\\site-packages (from requests->huggingface_hub) (3.10)\n",
      "Requirement already satisfied: urllib3<3,>=1.21.1 in c:\\users\\malat\\appdata\\local\\packages\\pythonsoftwarefoundation.python.3.12_qbz5n2kfra8p0\\localcache\\local-packages\\python312\\site-packages (from requests->huggingface_hub) (2.3.0)\n",
      "Requirement already satisfied: certifi>=2017.4.17 in c:\\users\\malat\\appdata\\local\\packages\\pythonsoftwarefoundation.python.3.12_qbz5n2kfra8p0\\localcache\\local-packages\\python312\\site-packages (from requests->huggingface_hub) (2024.12.14)\n"
     ]
    }
   ],
   "source": [
    "%pip install huggingface_hub"
   ]
  },
  {
   "cell_type": "code",
   "execution_count": 73,
   "metadata": {},
   "outputs": [
    {
     "name": "stdout",
     "output_type": "stream",
     "text": [
      "^C\n"
     ]
    }
   ],
   "source": [
    "!huggingface-cli login"
   ]
  },
  {
   "cell_type": "code",
   "execution_count": 79,
   "metadata": {},
   "outputs": [
    {
     "name": "stdout",
     "output_type": "stream",
     "text": [
      "Defaulting to user installation because normal site-packages is not writeable\n",
      "Collecting mistralai\n",
      "  Downloading mistralai-1.3.1-py3-none-any.whl.metadata (28 kB)\n",
      "Collecting eval-type-backport>=0.2.0 (from mistralai)\n",
      "  Downloading eval_type_backport-0.2.2-py3-none-any.whl.metadata (2.2 kB)\n",
      "Requirement already satisfied: httpx>=0.27.0 in c:\\users\\malat\\appdata\\local\\packages\\pythonsoftwarefoundation.python.3.12_qbz5n2kfra8p0\\localcache\\local-packages\\python312\\site-packages (from mistralai) (0.28.1)\n",
      "Collecting jsonpath-python>=1.0.6 (from mistralai)\n",
      "  Downloading jsonpath_python-1.0.6-py3-none-any.whl.metadata (12 kB)\n",
      "Requirement already satisfied: pydantic>=2.9.0 in c:\\users\\malat\\appdata\\local\\packages\\pythonsoftwarefoundation.python.3.12_qbz5n2kfra8p0\\localcache\\local-packages\\python312\\site-packages (from mistralai) (2.10.5)\n",
      "Requirement already satisfied: python-dateutil>=2.8.2 in c:\\users\\malat\\appdata\\local\\packages\\pythonsoftwarefoundation.python.3.12_qbz5n2kfra8p0\\localcache\\local-packages\\python312\\site-packages (from mistralai) (2.9.0.post0)\n",
      "Requirement already satisfied: typing-inspect>=0.9.0 in c:\\users\\malat\\appdata\\local\\packages\\pythonsoftwarefoundation.python.3.12_qbz5n2kfra8p0\\localcache\\local-packages\\python312\\site-packages (from mistralai) (0.9.0)\n",
      "Requirement already satisfied: anyio in c:\\users\\malat\\appdata\\local\\packages\\pythonsoftwarefoundation.python.3.12_qbz5n2kfra8p0\\localcache\\local-packages\\python312\\site-packages (from httpx>=0.27.0->mistralai) (4.8.0)\n",
      "Requirement already satisfied: certifi in c:\\users\\malat\\appdata\\local\\packages\\pythonsoftwarefoundation.python.3.12_qbz5n2kfra8p0\\localcache\\local-packages\\python312\\site-packages (from httpx>=0.27.0->mistralai) (2024.12.14)\n",
      "Requirement already satisfied: httpcore==1.* in c:\\users\\malat\\appdata\\local\\packages\\pythonsoftwarefoundation.python.3.12_qbz5n2kfra8p0\\localcache\\local-packages\\python312\\site-packages (from httpx>=0.27.0->mistralai) (1.0.7)\n",
      "Requirement already satisfied: idna in c:\\users\\malat\\appdata\\local\\packages\\pythonsoftwarefoundation.python.3.12_qbz5n2kfra8p0\\localcache\\local-packages\\python312\\site-packages (from httpx>=0.27.0->mistralai) (3.10)\n",
      "Requirement already satisfied: h11<0.15,>=0.13 in c:\\users\\malat\\appdata\\local\\packages\\pythonsoftwarefoundation.python.3.12_qbz5n2kfra8p0\\localcache\\local-packages\\python312\\site-packages (from httpcore==1.*->httpx>=0.27.0->mistralai) (0.14.0)\n",
      "Requirement already satisfied: annotated-types>=0.6.0 in c:\\users\\malat\\appdata\\local\\packages\\pythonsoftwarefoundation.python.3.12_qbz5n2kfra8p0\\localcache\\local-packages\\python312\\site-packages (from pydantic>=2.9.0->mistralai) (0.7.0)\n",
      "Requirement already satisfied: pydantic-core==2.27.2 in c:\\users\\malat\\appdata\\local\\packages\\pythonsoftwarefoundation.python.3.12_qbz5n2kfra8p0\\localcache\\local-packages\\python312\\site-packages (from pydantic>=2.9.0->mistralai) (2.27.2)\n",
      "Requirement already satisfied: typing-extensions>=4.12.2 in c:\\users\\malat\\appdata\\local\\packages\\pythonsoftwarefoundation.python.3.12_qbz5n2kfra8p0\\localcache\\local-packages\\python312\\site-packages (from pydantic>=2.9.0->mistralai) (4.12.2)\n",
      "Requirement already satisfied: six>=1.5 in c:\\users\\malat\\appdata\\local\\packages\\pythonsoftwarefoundation.python.3.12_qbz5n2kfra8p0\\localcache\\local-packages\\python312\\site-packages (from python-dateutil>=2.8.2->mistralai) (1.17.0)\n",
      "Requirement already satisfied: mypy-extensions>=0.3.0 in c:\\users\\malat\\appdata\\local\\packages\\pythonsoftwarefoundation.python.3.12_qbz5n2kfra8p0\\localcache\\local-packages\\python312\\site-packages (from typing-inspect>=0.9.0->mistralai) (1.0.0)\n",
      "Requirement already satisfied: sniffio>=1.1 in c:\\users\\malat\\appdata\\local\\packages\\pythonsoftwarefoundation.python.3.12_qbz5n2kfra8p0\\localcache\\local-packages\\python312\\site-packages (from anyio->httpx>=0.27.0->mistralai) (1.3.1)\n",
      "Downloading mistralai-1.3.1-py3-none-any.whl (261 kB)\n",
      "Downloading eval_type_backport-0.2.2-py3-none-any.whl (5.8 kB)\n",
      "Downloading jsonpath_python-1.0.6-py3-none-any.whl (7.6 kB)\n",
      "Installing collected packages: jsonpath-python, eval-type-backport, mistralai\n",
      "Successfully installed eval-type-backport-0.2.2 jsonpath-python-1.0.6 mistralai-1.3.1\n"
     ]
    }
   ],
   "source": [
    "!pip install mistralai"
   ]
  },
  {
   "cell_type": "code",
   "execution_count": 82,
   "metadata": {},
   "outputs": [
    {
     "name": "stdout",
     "output_type": "stream",
     "text": [
      "CAD stands for Computer-Aided Design. It refers to the use of computer systems to assist in the creation, modification, analysis, or optimization of a design. CAD software is widely used in various fields, including engineering, architecture, industrial design, and manufacturing, to create detailed 2D and 3D models. Here are some key aspects of CAD:\n",
      "\n",
      "1. **2D and 3D Modeling**: CAD software allows users to create both 2D drawings and 3D models. 2D drawings are often used for documentation and blueprints, while 3D models provide a more realistic representation of the design.\n",
      "\n",
      "2. **Precision and Accuracy**: CAD enables designers to create highly precise and accurate designs. It allows for easy modification and iteration, which is crucial in the design process.\n",
      "\n",
      "3. **Visualization**: With CAD, designers can visualize their designs from various angles and perspectives. This helps in identifying potential issues early in the design phase.\n",
      "\n",
      "4. **Simulation and Analysis**: Many CAD programs offer simulation and analysis tools to test the performance of a design under various conditions. This can include structural analysis, thermal analysis, and fluid dynamics.\n",
      "\n",
      "5. **Automation**: CAD software often includes automation features that can streamline repetitive tasks, such as generating multiple views of a model or creating standard parts.\n",
      "\n",
      "6. **Collaboration**: Modern CAD systems often include collaboration tools that allow multiple users to work on the same project simultaneously. This is especially useful in team environments.\n",
      "\n",
      "7. **File Formats**: CAD software supports various file formats for interoperability with other design and manufacturing tools. Common formats include DWG, DXF, STEP, IGES, and STL.\n",
      "\n",
      "Examples of popular CAD software include:\n",
      "- AutoCAD\n",
      "- SolidWorks\n",
      "- Autodesk Inventor\n",
      "- Catia\n",
      "- Fusion 360\n",
      "- SketchUp\n",
      "- Revit\n",
      "\n",
      "These tools are essential for professionals in fields such as mechanical engineering, civil engineering, architecture, aerospace, automotive, and product design.\n"
     ]
    }
   ],
   "source": [
    "import os\n",
    "from mistralai import Mistral\n",
    "\n",
    "api_key = os.environ[\"Mistral_AI_Key\"]\n",
    "model = \"mistral-large-latest\"\n",
    "\n",
    "client = Mistral(api_key=api_key)\n",
    "\n",
    "chat_response = client.chat.complete(\n",
    "    model = model,\n",
    "    messages = [\n",
    "        {\n",
    "            \"role\": \"user\",\n",
    "            \"content\": \"What is CAD?\",\n",
    "        },\n",
    "    ]\n",
    ")\n",
    "\n",
    "print(chat_response.choices[0].message.content)"
   ]
  },
  {
   "cell_type": "code",
   "execution_count": 61,
   "metadata": {},
   "outputs": [],
   "source": [
    "def format_docs(docs):\n",
    "\treturn \"\\n\\n\".join(doc.page_content for doc in docs)"
   ]
  },
  {
   "cell_type": "code",
   "execution_count": 85,
   "metadata": {},
   "outputs": [],
   "source": [
    "llm = ChatMistralAI(\n",
    "    model=\"mistral-large-latest\", streaming=True, api_key=api_key)"
   ]
  },
  {
   "cell_type": "code",
   "execution_count": 86,
   "metadata": {},
   "outputs": [],
   "source": [
    "PromptTemplate = \"\"\"\n",
    "<|system|>\n",
    "Answer the question based on your knowledge. use the following context to help:\n",
    "\n",
    "{context}\n",
    "\n",
    "{question}\n",
    "\n",
    "\"\"\""
   ]
  },
  {
   "cell_type": "code",
   "execution_count": 88,
   "metadata": {},
   "outputs": [],
   "source": [
    "from langchain.prompts import PromptTemplate\n",
    "\n",
    "# Define the prompt template as a string\n",
    "prompt_template_string = \"\"\"\n",
    "<|system|>\n",
    "Answer the question based on your knowledge. use the following context to help:\n",
    "\n",
    "{context}\n",
    "\n",
    "{question}\n",
    "\n",
    "\"\"\"\n",
    "\n",
    "# Create a PromptTemplate object using the string\n",
    "prompt = PromptTemplate(\n",
    "    input_variables=[\"context\", \"question\"],\n",
    "    template=prompt_template_string,  # Use the string here\n",
    ")\n",
    "\n",
    "llm_chain = prompt | llm | StrOutputParser()"
   ]
  },
  {
   "cell_type": "code",
   "execution_count": 89,
   "metadata": {},
   "outputs": [],
   "source": [
    "from langchain_core.runnables import RunnablePassthrough, RunnableParallel"
   ]
  },
  {
   "cell_type": "code",
   "execution_count": 90,
   "metadata": {},
   "outputs": [],
   "source": [
    "rag_chain = {\"context\": retriever, \"question\": RunnablePassthrough()} | llm_chain"
   ]
  },
  {
   "cell_type": "code",
   "execution_count": 91,
   "metadata": {},
   "outputs": [],
   "source": [
    "question = \"what is Generative AI?\""
   ]
  },
  {
   "cell_type": "code",
   "execution_count": 92,
   "metadata": {},
   "outputs": [
    {
     "data": {
      "text/plain": [
       "'Generative AI refers to a type of artificial intelligence that is designed to create or generate new content, such as images, music, text, or other types of data. Unlike discriminative AI models, which are primarily used for classification or prediction tasks, generative AI models focus on learning patterns in data to produce new, synthetic data that resembles the original input.\\n\\nGenerative AI opens up enormous possibilities to revolutionize how AI assists humans in various activities, particularly those involving interacting with a computer. It has significant potential to accelerate and enable new types of research in multiple fields. However, many faculty members in academic research environments are still learning how to implement and work with generative AI, including using prompts to query information effectively. The continuous emergence of new generative AI tools can make it challenging to identify a good starting point for skill development.'"
      ]
     },
     "execution_count": 92,
     "metadata": {},
     "output_type": "execute_result"
    }
   ],
   "source": [
    "rag_chain.invoke(question)"
   ]
  },
  {
   "cell_type": "code",
   "execution_count": 120,
   "metadata": {},
   "outputs": [
    {
     "name": "stdout",
     "output_type": "stream",
     "text": [
      "CAD stands for Computer-Aided Design. It is a technology used by engineers, architects, and other design professionals to create precise 2D and 3D models and drawings. CAD software allows users to design, develop, and optimize products, buildings, and other structures. It enhances productivity by automating the design process, enabling quick modifications, and providing tools for analysis and simulation.\n",
      "\n",
      "Common uses of CAD include:\n",
      "- **Architectural Design:** Creating detailed building plans and 3D models.\n",
      "- **Mechanical Engineering:** Designing machinery, components, and parts.\n",
      "- **Product Design:** Developing consumer goods, electronics, and other products.\n",
      "- **Civil Engineering:** Planning infrastructure such as roads, bridges, and other public works.\n",
      "\n",
      "CAD software typically includes features for drafting, modeling, and rendering, as well as tools for collaboration and documentation. Examples of popular CAD software include AutoCAD, SolidWorks, and Autodesk Inventor.\n"
     ]
    }
   ],
   "source": [
    "response = rag_chain.invoke(\"what is CAD\")\n",
    "print(response)"
   ]
  },
  {
   "cell_type": "code",
   "execution_count": 109,
   "metadata": {},
   "outputs": [],
   "source": [
    "# rag_chain_with_source = RunnableParallel(\n",
    "# \t{\"context\": retriever, \"question\": RunnablePassthrough()}\n",
    "# )"
   ]
  },
  {
   "cell_type": "code",
   "execution_count": null,
   "metadata": {},
   "outputs": [
    {
     "name": "stdout",
     "output_type": "stream",
     "text": [
      "what is Generative AI?\n",
      "page_content='enthusiasm for incorporating generative AI in research, even though most of generative AI’s potential benefits for research remain to be tested and validated. Of the four types of generative AI use that we mention, the use of domain-specific models has been reported extensively (as examples, see Andrade & Walsh, 2023; Chenthamarakshan et al., 2023; Grisoni et al., 2021; Gu et al., 2023; Hie et'\n"
     ]
    }
   ],
   "source": [
    "# response = rag_chain_with_source.invoke(\"what is Generative AI?\")\n",
    "# print(response['question'])\n",
    "# print(response['context'][2])"
   ]
  },
  {
   "cell_type": "code",
   "execution_count": 121,
   "metadata": {},
   "outputs": [],
   "source": [
    "from Eval_dataset import retrival_eval\n",
    "from retrieval_eval import retrival_evalution"
   ]
  },
  {
   "cell_type": "code",
   "execution_count": 122,
   "metadata": {},
   "outputs": [],
   "source": [
    "from sentence_transformers import SentenceTransformer\n",
    "from sklearn.metrics.pairwise import cosine_similarity"
   ]
  },
  {
   "cell_type": "code",
   "execution_count": 123,
   "metadata": {},
   "outputs": [],
   "source": [
    "model = SentenceTransformer('sentence-transformers/paraphrase-multilingual-MiniLM-L12-v2')"
   ]
  },
  {
   "cell_type": "code",
   "execution_count": 124,
   "metadata": {},
   "outputs": [],
   "source": [
    "\n",
    "def precision_at_k(actual_response, expected_response, threshold=0.8):\n",
    "    \"\"\"\n",
    "    Calculate Precision@K based on cosine similarity.\n",
    "    \n",
    "    Parameters:\n",
    "    - actual_response (list): List of strings (actual responses).\n",
    "    - expected_response (list): List of strings (expected responses).\n",
    "    - threshold (float): Cosine similarity threshold for considering a match.\n",
    "    \n",
    "    Returns:\n",
    "    - float: Precision@K value.\n",
    "    \"\"\"\n",
    "    a_emb = [model.encode(resp.page_content) for resp in actual_response]\n",
    "    e_emb = [model.encode(resp) for resp in expected_response]\n",
    "    \n",
    "    tp = 0  # True positives\n",
    "    k = len(actual_response)\n",
    "    \n",
    "    for a_vec in a_emb:\n",
    "        # Calculate similarity of actual response to all expected responses\n",
    "        similarities = [cosine_similarity([a_vec], [e_vec])[0][0] for e_vec in e_emb]\n",
    "        \n",
    "        # Check if any similarity exceeds the threshold\n",
    "        if any(sim >= threshold for sim in similarities):\n",
    "            tp += 1\n",
    "    \n",
    "    # Precision@K = True Positives / K\n",
    "    precision = tp / k if k > 0 else 0\n",
    "    return precision\n"
   ]
  },
  {
   "cell_type": "code",
   "execution_count": 138,
   "metadata": {},
   "outputs": [],
   "source": [
    "\n",
    "def recall_at_k(actual_response, expected_response, threshold=0.8):\n",
    "    \n",
    "    a_emb = [model.encode(resp.page_content) for resp in actual_response]\n",
    "    e_emb = [model.encode(resp) for resp in expected_response]\n",
    "    \n",
    "    tp = 0  # True positives\n",
    "    #total_relevant = len(expected_response)  # Total number of relevant items (expected responses)\n",
    "\n",
    "    r = len(actual_response)\n",
    "    \n",
    "    for a_vec in a_emb:\n",
    "        # Calculate similarity of actual response to all expected responses\n",
    "        similarities = [cosine_similarity([a_vec], [e_vec])[0][0] for e_vec in e_emb]\n",
    "        \n",
    "        # Check if any similarity exceeds the threshold\n",
    "        if any(sim >= threshold for sim in similarities):\n",
    "            tp += 1\n",
    "    \n",
    "    # recall@K = True Positives / K\n",
    "    #recall = tp / r if r > 0 else 0\n",
    "    recall = tp / r if r > 0 else 0\n",
    "\n",
    "    return recall\n"
   ]
  },
  {
   "cell_type": "code",
   "execution_count": 126,
   "metadata": {},
   "outputs": [
    {
     "name": "stdout",
     "output_type": "stream",
     "text": [
      "0\n",
      "0\n",
      "0\n",
      "0\n",
      "0\n"
     ]
    },
    {
     "data": {
      "text/plain": [
       "(0, 5)"
      ]
     },
     "execution_count": 126,
     "metadata": {},
     "output_type": "execute_result"
    }
   ],
   "source": [
    "presition = 0\n",
    "k_val = 0\n",
    "for i in retrival_eval:\n",
    "    result = vector_store.similarity_search(i.get(\"query\"),k = 2)\n",
    "    # eval = retrival_evalution()\n",
    "    presistion = precision_at_k(actual_response=result,expected_response=i.get(\"relevant_docs\"))\n",
    "    print(presistion)\n",
    "    k_val += 1\n",
    "    presition += presistion\n",
    "    # break\n",
    "\n",
    "presistion,k_val"
   ]
  },
  {
   "cell_type": "code",
   "execution_count": 139,
   "metadata": {},
   "outputs": [
    {
     "name": "stdout",
     "output_type": "stream",
     "text": [
      "0\n",
      "0\n",
      "0\n",
      "0\n",
      "0\n"
     ]
    },
    {
     "data": {
      "text/plain": [
       "(0, 5)"
      ]
     },
     "execution_count": 139,
     "metadata": {},
     "output_type": "execute_result"
    }
   ],
   "source": [
    "recall = 0\n",
    "r_val = 0\n",
    "for i in retrival_eval:\n",
    "    result = vector_store.similarity_search(i.get(\"query\"),k = 2)\n",
    "    # eval = retrival_evalution()\n",
    "    recall = recall_at_k(actual_response=result,expected_response=i.get(\"relevant_docs\"))\n",
    "    print(presistion)\n",
    "    r_val += 1\n",
    "    recall += recall\n",
    "    # break\n",
    "\n",
    "recall,r_val"
   ]
  },
  {
   "cell_type": "code",
   "execution_count": 127,
   "metadata": {},
   "outputs": [
    {
     "data": {
      "text/plain": [
       "(0, 5)"
      ]
     },
     "execution_count": 127,
     "metadata": {},
     "output_type": "execute_result"
    }
   ],
   "source": [
    "presition,k_val\n"
   ]
  },
  {
   "cell_type": "code",
   "execution_count": null,
   "metadata": {},
   "outputs": [],
   "source": []
  }
 ],
 "metadata": {
  "kernelspec": {
   "display_name": "Python 3",
   "language": "python",
   "name": "python3"
  },
  "language_info": {
   "codemirror_mode": {
    "name": "ipython",
    "version": 3
   },
   "file_extension": ".py",
   "mimetype": "text/x-python",
   "name": "python",
   "nbconvert_exporter": "python",
   "pygments_lexer": "ipython3",
   "version": "3.12.8"
  }
 },
 "nbformat": 4,
 "nbformat_minor": 2
}
