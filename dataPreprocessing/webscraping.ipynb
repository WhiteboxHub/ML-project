{
 "cells": [
  {
   "cell_type": "code",
   "execution_count": 8,
   "metadata": {},
   "outputs": [],
   "source": [
    "import requests\n",
    "from bs4 import BeautifulSoup"
   ]
  },
  {
   "cell_type": "code",
   "execution_count": 11,
   "metadata": {},
   "outputs": [],
   "source": [
    "def webscraping(url,filename):\n",
    "    response = requests.get(url)\n",
    "    if response.status_code == 200:\n",
    "       innerData = BeautifulSoup(response.content)\n",
    "       data = innerData.find_all('p')\n",
    "       with open(filename, mode='w') as file:\n",
    "        for abc in data:\n",
    "           file.write(abc.getText() +'\\n')\n",
    "       print(f'A file with name {filename} is created with the scraped data')       \n",
    "    else:\n",
    "        print(f'{url}, is not reachable')"
   ]
  },
  {
   "cell_type": "code",
   "execution_count": 14,
   "metadata": {},
   "outputs": [
    {
     "name": "stdout",
     "output_type": "stream",
     "text": [
      "A file with name knowledgeBase1.txt is created with the scraped data\n",
      "https://www.researchgate.net/publication/376238636_Generative_artificial_intelligence, is not reachable\n"
     ]
    }
   ],
   "source": [
    "webscraping(\"https://en.wikipedia.org/wiki/Large_language_model\",'knowledgeBase1.txt')\n",
    "webscraping('https://www.researchgate.net/publication/376238636_Generative_artificial_intelligence','genai.txt')"
   ]
  },
  {
   "cell_type": "code",
   "execution_count": null,
   "metadata": {},
   "outputs": [],
   "source": []
  }
 ],
 "metadata": {
  "kernelspec": {
   "display_name": "Python 3",
   "language": "python",
   "name": "python3"
  },
  "language_info": {
   "codemirror_mode": {
    "name": "ipython",
    "version": 3
   },
   "file_extension": ".py",
   "mimetype": "text/x-python",
   "name": "python",
   "nbconvert_exporter": "python",
   "pygments_lexer": "ipython3",
   "version": "3.9.6"
  }
 },
 "nbformat": 4,
 "nbformat_minor": 2
}
